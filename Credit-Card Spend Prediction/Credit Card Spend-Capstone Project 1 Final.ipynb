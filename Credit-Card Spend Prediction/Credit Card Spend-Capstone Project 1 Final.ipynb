{
 "cells": [
  {
   "cell_type": "markdown",
   "metadata": {},
   "source": [
    "## <Big> PREDICTING CREDIT CARD SPEND/ KEY DRIVERS"
   ]
  },
  {
   "cell_type": "markdown",
   "metadata": {},
   "source": [
    "## Business Problem:\n",
    "\n",
    "One of the global banks would like to understand what factors driving credit card spend are. The bank wants to use these insights to calculate credit limit. In order to solve the problem, the bank conducted survey of 5000 customers and collected data.\n",
    "The objective of this case study is to understand what's driving the total spend (Primary Card + Secondary card). Given the factors, predict credit limit for the new applicants.\n",
    "\n",
    "\n",
    "## Data Availability:\n",
    "\n",
    "- Data for the case are available in xlsx format(Data Set.xlxs).\n",
    "- The data have been provided for 5000 customers.\n",
    "- Detailed data dictionary has been provided for understanding the data in the data.\n",
    "- Data is encoded in the numerical format to reduce the size of the data however some of the variables are categorical. You can  find the details in the data dictionary"
   ]
  },
  {
   "cell_type": "code",
   "execution_count": 1,
   "metadata": {},
   "outputs": [],
   "source": [
    "# Lets load the neccesary libraries\n",
    "import pandas as pd\n",
    "import numpy as np\n",
    "import matplotlib.pyplot as plt\n",
    "import seaborn as sns\n",
    "%matplotlib inline\n",
    "sns.set()\n",
    "\n",
    "import pandas_profiling as pp\n",
    "\n",
    "\n",
    "from sklearn.model_selection import train_test_split\n",
    "from sklearn.linear_model import LinearRegression\n",
    "from sklearn.ensemble import RandomForestRegressor\n",
    "\n",
    "from sklearn import metrics\n",
    "from statsmodels.stats.outliers_influence import variance_inflation_factor\n",
    "import statsmodels.api as sm\n",
    "from patsy import dmatrices\n",
    "from sklearn.svm import SVC, LinearSVC\n",
    "from sklearn.metrics import mean_squared_error as mse\n",
    "from sklearn.metrics import r2_score as r2"
   ]
  },
  {
   "cell_type": "markdown",
   "metadata": {},
   "source": [
    "## Creating an Excel File for output - Regression Output.xlsx"
   ]
  },
  {
   "cell_type": "code",
   "execution_count": 2,
   "metadata": {},
   "outputs": [],
   "source": [
    "writer = pd.ExcelWriter('Regression Output.xlsx')"
   ]
  },
  {
   "cell_type": "markdown",
   "metadata": {},
   "source": [
    "### <big> Importing the data sets"
   ]
  },
  {
   "cell_type": "code",
   "execution_count": 3,
   "metadata": {
    "scrolled": true
   },
   "outputs": [
    {
     "data": {
      "text/plain": [
       "int64      97\n",
       "float64    31\n",
       "object      2\n",
       "dtype: int64"
      ]
     },
     "metadata": {},
     "output_type": "display_data"
    },
    {
     "data": {
      "text/plain": [
       "int64      97\n",
       "float64    31\n",
       "object      2\n",
       "dtype: int64"
      ]
     },
     "metadata": {},
     "output_type": "display_data"
    },
    {
     "data": {
      "text/html": [
       "<div>\n",
       "<style scoped>\n",
       "    .dataframe tbody tr th:only-of-type {\n",
       "        vertical-align: middle;\n",
       "    }\n",
       "\n",
       "    .dataframe tbody tr th {\n",
       "        vertical-align: top;\n",
       "    }\n",
       "\n",
       "    .dataframe thead th {\n",
       "        text-align: right;\n",
       "    }\n",
       "</style>\n",
       "<table border=\"1\" class=\"dataframe\">\n",
       "  <thead>\n",
       "    <tr style=\"text-align: right;\">\n",
       "      <th></th>\n",
       "      <th>custid</th>\n",
       "      <th>region</th>\n",
       "      <th>townsize</th>\n",
       "      <th>gender</th>\n",
       "      <th>age</th>\n",
       "      <th>agecat</th>\n",
       "      <th>birthmonth</th>\n",
       "      <th>ed</th>\n",
       "      <th>edcat</th>\n",
       "      <th>jobcat</th>\n",
       "      <th>...</th>\n",
       "      <th>owncd</th>\n",
       "      <th>ownpda</th>\n",
       "      <th>ownpc</th>\n",
       "      <th>ownipod</th>\n",
       "      <th>owngame</th>\n",
       "      <th>ownfax</th>\n",
       "      <th>news</th>\n",
       "      <th>response_01</th>\n",
       "      <th>response_02</th>\n",
       "      <th>response_03</th>\n",
       "    </tr>\n",
       "  </thead>\n",
       "  <tbody>\n",
       "    <tr>\n",
       "      <th>0</th>\n",
       "      <td>3964-QJWTRG-NPN</td>\n",
       "      <td>1</td>\n",
       "      <td>2.0</td>\n",
       "      <td>1</td>\n",
       "      <td>20</td>\n",
       "      <td>2</td>\n",
       "      <td>September</td>\n",
       "      <td>15</td>\n",
       "      <td>3</td>\n",
       "      <td>1</td>\n",
       "      <td>...</td>\n",
       "      <td>0</td>\n",
       "      <td>0</td>\n",
       "      <td>0</td>\n",
       "      <td>1</td>\n",
       "      <td>1</td>\n",
       "      <td>0</td>\n",
       "      <td>0</td>\n",
       "      <td>0</td>\n",
       "      <td>1</td>\n",
       "      <td>0</td>\n",
       "    </tr>\n",
       "    <tr>\n",
       "      <th>1</th>\n",
       "      <td>0648-AIPJSP-UVM</td>\n",
       "      <td>5</td>\n",
       "      <td>5.0</td>\n",
       "      <td>0</td>\n",
       "      <td>22</td>\n",
       "      <td>2</td>\n",
       "      <td>May</td>\n",
       "      <td>17</td>\n",
       "      <td>4</td>\n",
       "      <td>2</td>\n",
       "      <td>...</td>\n",
       "      <td>1</td>\n",
       "      <td>1</td>\n",
       "      <td>1</td>\n",
       "      <td>1</td>\n",
       "      <td>1</td>\n",
       "      <td>1</td>\n",
       "      <td>1</td>\n",
       "      <td>0</td>\n",
       "      <td>0</td>\n",
       "      <td>0</td>\n",
       "    </tr>\n",
       "  </tbody>\n",
       "</table>\n",
       "<p>2 rows × 130 columns</p>\n",
       "</div>"
      ],
      "text/plain": [
       "            custid  region  townsize  gender  age  agecat birthmonth  ed  \\\n",
       "0  3964-QJWTRG-NPN       1       2.0       1   20       2  September  15   \n",
       "1  0648-AIPJSP-UVM       5       5.0       0   22       2        May  17   \n",
       "\n",
       "   edcat  jobcat  ...  owncd  ownpda  ownpc  ownipod  owngame  ownfax  news  \\\n",
       "0      3       1  ...      0       0      0        1        1       0     0   \n",
       "1      4       2  ...      1       1      1        1        1       1     1   \n",
       "\n",
       "   response_01  response_02  response_03  \n",
       "0            0            1            0  \n",
       "1            0            0            0  \n",
       "\n",
       "[2 rows x 130 columns]"
      ]
     },
     "execution_count": 3,
     "metadata": {},
     "output_type": "execute_result"
    }
   ],
   "source": [
    "credit=pd.read_excel('Data Set.xlsx')\n",
    "\n",
    "display(credit.dtypes.value_counts())\n",
    "credit.replace('#NULL!', np.nan, inplace=True) \n",
    "credit.fillna(credit.mean(), inplace=True)\n",
    "\n",
    "display(credit.dtypes.value_counts())\n",
    "\n",
    "credit.head(2)"
   ]
  },
  {
   "cell_type": "markdown",
   "metadata": {},
   "source": [
    "<big><big> <Strong> Generating the Pandas Profiling Report "
   ]
  },
  {
   "cell_type": "code",
   "execution_count": 4,
   "metadata": {},
   "outputs": [],
   "source": [
    "#report= pp.ProfileReport(credit)\n",
    "#report.to_file(outputfile = 'profilereport_Credit_1.html')"
   ]
  },
  {
   "cell_type": "markdown",
   "metadata": {},
   "source": [
    "<Big> <stong> Data is all messed up, ctegorical not stored as objects, we must sepearate out categorical and numerical data properly to proceed"
   ]
  },
  {
   "cell_type": "markdown",
   "metadata": {},
   "source": [
    "<Strong> <big> df.info Method also tells the same"
   ]
  },
  {
   "cell_type": "code",
   "execution_count": 5,
   "metadata": {},
   "outputs": [
    {
     "name": "stdout",
     "output_type": "stream",
     "text": [
      "_____________________________________________\n",
      "<class 'pandas.core.frame.DataFrame'>\n",
      "RangeIndex: 5000 entries, 0 to 4999\n",
      "Columns: 130 entries, custid to response_03\n",
      "dtypes: float64(31), int64(97), object(2)\n",
      "memory usage: 5.0+ MB\n",
      "None\n",
      "_____________________________________________\n",
      "\n",
      "Credit Card Data shape: (5000, 130)\n"
     ]
    }
   ],
   "source": [
    "print('_'*45)\n",
    "print(credit.info())\n",
    "print('_'*45)\n",
    "print('\\nCredit Card Data shape:',credit.shape)"
   ]
  },
  {
   "cell_type": "markdown",
   "metadata": {},
   "source": [
    "## <big> Numerical and categorical Fixing as per data Dcitionary starts"
   ]
  },
  {
   "cell_type": "markdown",
   "metadata": {},
   "source": [
    "### First droping custid as it is not at all helpful for us in the analysis"
   ]
  },
  {
   "cell_type": "code",
   "execution_count": 6,
   "metadata": {},
   "outputs": [],
   "source": [
    "credit.drop('custid',axis=1,inplace=True)"
   ]
  },
  {
   "cell_type": "markdown",
   "metadata": {},
   "source": [
    "<Strong><big> Creating a Categorical List to Contain all categorical variables"
   ]
  },
  {
   "cell_type": "code",
   "execution_count": 7,
   "metadata": {},
   "outputs": [],
   "source": [
    "cat_var=['region','townsize','gender','agecat','birthmonth','edcat','jobcat','union',\n",
    "'employ','empcat','retire','inccat','default','jobsat','marital','spousedcat',\n",
    "'homeown','hometype','address','addresscat','cars','carown','cartype',\n",
    "'carcatvalue','carbought','carbuy','commute','commutecat','commutecar','commutemotorcycle',\n",
    "'commutecarpool','commutebus','commuterail','commutepublic','commutebike','commutewalk',\n",
    "'commutenonmotor','telecommute','reason','polview','polparty','polcontrib','vote','card',\n",
    "'cardtype','cardbenefit','cardfee','cardtenure','cardtenurecat','card2','card2type',\n",
    "'card2benefit','card2fee','card2tenure','card2tenurecat','active','bfast','churn','tollfree',\n",
    "'equip','callcard','wireless','multline','voice','pager','internet','callid','callwait','forward',\n",
    "'confer','ebill','owntv','ownvcr','owndvd','owncd','ownpda','ownpc','ownipod','owngame','ownfax','news',\n",
    "'response_01','response_02','response_03']"
   ]
  },
  {
   "cell_type": "markdown",
   "metadata": {},
   "source": [
    "## Creating a  List to Contain all numerical variables as well\n",
    "<big> <strong> We have excel file that has data dictionary to help us explicitly with categorical variables \n",
    "1. It has categorical varaiables \n",
    "2. It has all vars \n",
    "3. [All var] - [cat var] = [Numerical Var]\n",
    "    \n",
    "<strong> A loop will help to seperate numerical from mised variables-"
   ]
  },
  {
   "cell_type": "code",
   "execution_count": 8,
   "metadata": {},
   "outputs": [
    {
     "name": "stdout",
     "output_type": "stream",
     "text": [
      "['age', 'ed', 'income', 'lninc', 'debtinc', 'creddebt', 'lncreddebt', 'othdebt', 'lnothdebt', 'spoused', 'reside', 'pets', 'pets_cats', 'pets_dogs', 'pets_birds', 'pets_reptiles', 'pets_small', 'pets_saltfish', 'pets_freshfish', 'carvalue', 'commutetime', 'cardspent', 'card2spent', 'tenure', 'longmon', 'lnlongmon', 'longten', 'lnlongten', 'tollmon', 'lntollmon', 'tollten', 'lntollten', 'equipmon', 'lnequipmon', 'equipten', 'lnequipten', 'cardmon', 'lncardmon', 'cardten', 'lncardten', 'wiremon', 'lnwiremon', 'wireten', 'lnwireten', 'hourstv']\n"
     ]
    }
   ],
   "source": [
    "numerical_var=[]\n",
    "for i in credit.columns:\n",
    "    if i not in cat_var:\n",
    "        numerical_var.append(i)\n",
    "print(numerical_var)"
   ]
  },
  {
   "cell_type": "code",
   "execution_count": 9,
   "metadata": {},
   "outputs": [
    {
     "name": "stdout",
     "output_type": "stream",
     "text": [
      "Number of numerical variables   :-  45\n",
      "Number of categorical variables :-  84\n"
     ]
    }
   ],
   "source": [
    "print ('Number of numerical variables   :-  {}'.format(len(numerical_var)))\n",
    "print ('Number of categorical variables :-  {}'.format(len(cat_var)))"
   ]
  },
  {
   "cell_type": "markdown",
   "metadata": {},
   "source": [
    "## WRITING UDFS\n",
    "<big> Description of UDF Tells its functionality"
   ]
  },
  {
   "cell_type": "code",
   "execution_count": 10,
   "metadata": {},
   "outputs": [],
   "source": [
    "# Create Data audit Report for continuous variables\n",
    "def continuous_var_summary(x):\n",
    "    return pd.Series([x.count(), x.isnull().sum(), x.sum(), x.mean(), x.median(),  \n",
    "                      x.std(), x.var(), x.min(), x.quantile(0.01), x.quantile(0.05),\n",
    "                          x.quantile(0.10),x.quantile(0.25),x.quantile(0.50),x.quantile(0.75), \n",
    "                              x.quantile(0.90),x.quantile(0.95), x.quantile(0.99),x.max()], \n",
    "                  index = ['N', 'NMISS', 'SUM', 'MEAN','MEDIAN', 'STD', 'VAR', 'MIN', 'P1', \n",
    "                               'P5' ,'P10' ,'P25' ,'P50' ,'P75' ,'P90' ,'P95' ,'P99' ,'MAX'])\n",
    "\n",
    "# Create Data audit Report for categorical variables\n",
    "\n",
    "def categorical_var_summary(x):\n",
    "    Mode = x.value_counts().sort_values(ascending = False)[0:1].reset_index()\n",
    "    return pd.Series([x.count(), x.isnull().sum(), Mode.iloc[0, 0], Mode.iloc[0, 1], \n",
    "                          round(Mode.iloc[0, 1] * 100/x.count(), 2)], \n",
    "                  index = ['N', 'NMISS', 'MODE', 'FREQ', 'PERCENT'])"
   ]
  },
  {
   "cell_type": "code",
   "execution_count": 11,
   "metadata": {},
   "outputs": [],
   "source": [
    "def list_update(var):\n",
    "    if var in cat_var:\n",
    "        cat_var.remove(var)\n",
    "    elif var in numerical_var:\n",
    "        numerical_var.remove(var)\n",
    "    else:\n",
    "        print(\"This variable is not present in either of the list.\")\n",
    "        \n",
    "# Function to drop all the vaariable in given list from main dataset i.e \"credit\".\n",
    "def list_drop(inp):\n",
    "    for var in inp:\n",
    "        list_update(var)\n",
    "        credit.drop(var,axis=1,inplace=True)\n",
    "        credit_conti_var=credit.loc[:, numerical_var]\n",
    "        credit_cat_var=credit.loc[:, cat_var]"
   ]
  },
  {
   "cell_type": "code",
   "execution_count": 12,
   "metadata": {},
   "outputs": [],
   "source": [
    "# An utility function to create dummy variable\n",
    "\n",
    "def create_dummies( credits_cat, colname ):\n",
    "    col_dummies = pd.get_dummies(credits_cat[colname], prefix=colname)\n",
    "    col_dummies.drop(col_dummies.columns[0], axis=1, inplace=True)\n",
    "    credits_cat = pd.concat([credits_cat, col_dummies], axis=1)\n",
    "    credits_cat.drop( colname, axis = 1, inplace = True )\n",
    "    return credits_cat"
   ]
  },
  {
   "cell_type": "markdown",
   "metadata": {},
   "source": [
    "### <big> Card Spent 1 and 2 can be combined \n",
    "###  <big> A quick histogram Plot will help to see its distribution"
   ]
  },
  {
   "cell_type": "code",
   "execution_count": 13,
   "metadata": {},
   "outputs": [
    {
     "data": {
      "text/plain": [
       "<AxesSubplot:ylabel='Frequency'>"
      ]
     },
     "execution_count": 13,
     "metadata": {},
     "output_type": "execute_result"
    },
    {
     "data": {
      "image/png": "[encoded data removed]",
      "text/plain": [
       "<Figure size 432x288 with 1 Axes>"
      ]
     },
     "metadata": {},
     "output_type": "display_data"
    }
   ],
   "source": [
    "credit['total_spent']=credit['cardspent']+credit['card2spent']\n",
    "credit['total_spent'].plot(kind='hist')"
   ]
  },
  {
   "cell_type": "markdown",
   "metadata": {},
   "source": [
    "### It is highly skewed, log can take care of it to some extentent"
   ]
  },
  {
   "cell_type": "code",
   "execution_count": 14,
   "metadata": {},
   "outputs": [
    {
     "data": {
      "text/plain": [
       "<AxesSubplot:ylabel='Frequency'>"
      ]
     },
     "execution_count": 14,
     "metadata": {},
     "output_type": "execute_result"
    },
    {
     "data": {
      "image/png": "[encoded data removed]",
      "text/plain": [
       "<Figure size 432x288 with 1 Axes>"
      ]
     },
     "metadata": {},
     "output_type": "display_data"
    }
   ],
   "source": [
    "credit['total_spent_ln']=np.log(credit['total_spent'])\n",
    "credit['total_spent_ln'].plot(kind='hist',bins=25)"
   ]
  },
  {
   "cell_type": "code",
   "execution_count": 15,
   "metadata": {},
   "outputs": [
    {
     "name": "stdout",
     "output_type": "stream",
     "text": [
      "This variable is not present in either of the list.\n"
     ]
    }
   ],
   "source": [
    "list_drop(['total_spent','cardspent','card2spent'])\n",
    "numerical_var.append('total_spent_ln')"
   ]
  },
  {
   "cell_type": "markdown",
   "metadata": {},
   "source": [
    "### Missing Values Inspection"
   ]
  },
  {
   "cell_type": "code",
   "execution_count": 16,
   "metadata": {},
   "outputs": [
    {
     "data": {
      "text/plain": [
       "0    128\n",
       "dtype: int64"
      ]
     },
     "execution_count": 16,
     "metadata": {},
     "output_type": "execute_result"
    }
   ],
   "source": [
    "credit.isnull().sum().value_counts()"
   ]
  },
  {
   "cell_type": "markdown",
   "metadata": {},
   "source": [
    "#### -There are missing values in the data: Let us inspect for variables where missing values are more than 25%"
   ]
  },
  {
   "cell_type": "code",
   "execution_count": 17,
   "metadata": {},
   "outputs": [
    {
     "data": {
      "text/html": [
       "<div>\n",
       "<style scoped>\n",
       "    .dataframe tbody tr th:only-of-type {\n",
       "        vertical-align: middle;\n",
       "    }\n",
       "\n",
       "    .dataframe tbody tr th {\n",
       "        vertical-align: top;\n",
       "    }\n",
       "\n",
       "    .dataframe thead th {\n",
       "        text-align: right;\n",
       "    }\n",
       "</style>\n",
       "<table border=\"1\" class=\"dataframe\">\n",
       "  <thead>\n",
       "    <tr style=\"text-align: right;\">\n",
       "      <th></th>\n",
       "      <th>NMISS</th>\n",
       "    </tr>\n",
       "  </thead>\n",
       "  <tbody>\n",
       "  </tbody>\n",
       "</table>\n",
       "</div>"
      ],
      "text/plain": [
       "Empty DataFrame\n",
       "Columns: [NMISS]\n",
       "Index: []"
      ]
     },
     "execution_count": 17,
     "metadata": {},
     "output_type": "execute_result"
    }
   ],
   "source": [
    "credit_conti_var=credit.loc[:, numerical_var]\n",
    "Missing_values=pd.DataFrame(credit_conti_var.apply(continuous_var_summary).T.round(1)['NMISS']/5000*100)\n",
    "M_V=Missing_values[Missing_values['NMISS']>25]\n",
    "M_V"
   ]
  },
  {
   "cell_type": "code",
   "execution_count": 18,
   "metadata": {},
   "outputs": [],
   "source": [
    "M_V.to_excel(writer, 'High_Miss_Values', index=True)"
   ]
  },
  {
   "cell_type": "code",
   "execution_count": 19,
   "metadata": {},
   "outputs": [],
   "source": [
    "list_drop(M_V.index)\n",
    "credit_conti_var.drop(M_V.index,axis=1,inplace=True)"
   ]
  },
  {
   "cell_type": "code",
   "execution_count": 20,
   "metadata": {},
   "outputs": [
    {
     "data": {
      "text/plain": [
       "0    128\n",
       "dtype: int64"
      ]
     },
     "execution_count": 20,
     "metadata": {},
     "output_type": "execute_result"
    }
   ],
   "source": [
    "credit.isna().sum().value_counts()"
   ]
  },
  {
   "cell_type": "markdown",
   "metadata": {},
   "source": [
    "### Numerical variable summary"
   ]
  },
  {
   "cell_type": "code",
   "execution_count": 21,
   "metadata": {},
   "outputs": [
    {
     "data": {
      "text/html": [
       "<div>\n",
       "<style scoped>\n",
       "    .dataframe tbody tr th:only-of-type {\n",
       "        vertical-align: middle;\n",
       "    }\n",
       "\n",
       "    .dataframe tbody tr th {\n",
       "        vertical-align: top;\n",
       "    }\n",
       "\n",
       "    .dataframe thead th {\n",
       "        text-align: right;\n",
       "    }\n",
       "</style>\n",
       "<table border=\"1\" class=\"dataframe\">\n",
       "  <thead>\n",
       "    <tr style=\"text-align: right;\">\n",
       "      <th></th>\n",
       "      <th>N</th>\n",
       "      <th>NMISS</th>\n",
       "      <th>SUM</th>\n",
       "      <th>MEAN</th>\n",
       "      <th>MEDIAN</th>\n",
       "      <th>STD</th>\n",
       "      <th>VAR</th>\n",
       "      <th>MIN</th>\n",
       "      <th>P1</th>\n",
       "      <th>P5</th>\n",
       "      <th>P10</th>\n",
       "      <th>P25</th>\n",
       "      <th>P50</th>\n",
       "      <th>P75</th>\n",
       "      <th>P90</th>\n",
       "      <th>P95</th>\n",
       "      <th>P99</th>\n",
       "      <th>MAX</th>\n",
       "    </tr>\n",
       "  </thead>\n",
       "  <tbody>\n",
       "    <tr>\n",
       "      <th>age</th>\n",
       "      <td>5000.0</td>\n",
       "      <td>0.0</td>\n",
       "      <td>235128.0</td>\n",
       "      <td>47.0</td>\n",
       "      <td>47.0</td>\n",
       "      <td>17.8</td>\n",
       "      <td>315.8</td>\n",
       "      <td>18.0</td>\n",
       "      <td>18.0</td>\n",
       "      <td>20.0</td>\n",
       "      <td>23.0</td>\n",
       "      <td>31.0</td>\n",
       "      <td>47.0</td>\n",
       "      <td>62.0</td>\n",
       "      <td>72.0</td>\n",
       "      <td>76.0</td>\n",
       "      <td>79.0</td>\n",
       "      <td>79.0</td>\n",
       "    </tr>\n",
       "    <tr>\n",
       "      <th>ed</th>\n",
       "      <td>5000.0</td>\n",
       "      <td>0.0</td>\n",
       "      <td>72715.0</td>\n",
       "      <td>14.5</td>\n",
       "      <td>14.0</td>\n",
       "      <td>3.3</td>\n",
       "      <td>10.8</td>\n",
       "      <td>6.0</td>\n",
       "      <td>8.0</td>\n",
       "      <td>9.0</td>\n",
       "      <td>10.0</td>\n",
       "      <td>12.0</td>\n",
       "      <td>14.0</td>\n",
       "      <td>17.0</td>\n",
       "      <td>19.0</td>\n",
       "      <td>20.0</td>\n",
       "      <td>21.0</td>\n",
       "      <td>23.0</td>\n",
       "    </tr>\n",
       "    <tr>\n",
       "      <th>income</th>\n",
       "      <td>5000.0</td>\n",
       "      <td>0.0</td>\n",
       "      <td>273798.0</td>\n",
       "      <td>54.8</td>\n",
       "      <td>38.0</td>\n",
       "      <td>55.4</td>\n",
       "      <td>3066.7</td>\n",
       "      <td>9.0</td>\n",
       "      <td>9.0</td>\n",
       "      <td>13.0</td>\n",
       "      <td>16.0</td>\n",
       "      <td>24.0</td>\n",
       "      <td>38.0</td>\n",
       "      <td>67.0</td>\n",
       "      <td>109.1</td>\n",
       "      <td>147.0</td>\n",
       "      <td>272.0</td>\n",
       "      <td>1073.0</td>\n",
       "    </tr>\n",
       "    <tr>\n",
       "      <th>lninc</th>\n",
       "      <td>5000.0</td>\n",
       "      <td>0.0</td>\n",
       "      <td>18499.5</td>\n",
       "      <td>3.7</td>\n",
       "      <td>3.6</td>\n",
       "      <td>0.7</td>\n",
       "      <td>0.6</td>\n",
       "      <td>2.2</td>\n",
       "      <td>2.2</td>\n",
       "      <td>2.6</td>\n",
       "      <td>2.8</td>\n",
       "      <td>3.2</td>\n",
       "      <td>3.6</td>\n",
       "      <td>4.2</td>\n",
       "      <td>4.7</td>\n",
       "      <td>5.0</td>\n",
       "      <td>5.6</td>\n",
       "      <td>7.0</td>\n",
       "    </tr>\n",
       "    <tr>\n",
       "      <th>debtinc</th>\n",
       "      <td>5000.0</td>\n",
       "      <td>0.0</td>\n",
       "      <td>49770.8</td>\n",
       "      <td>10.0</td>\n",
       "      <td>8.8</td>\n",
       "      <td>6.4</td>\n",
       "      <td>41.0</td>\n",
       "      <td>0.0</td>\n",
       "      <td>0.7</td>\n",
       "      <td>1.9</td>\n",
       "      <td>2.8</td>\n",
       "      <td>5.1</td>\n",
       "      <td>8.8</td>\n",
       "      <td>13.6</td>\n",
       "      <td>18.6</td>\n",
       "      <td>22.2</td>\n",
       "      <td>29.2</td>\n",
       "      <td>43.1</td>\n",
       "    </tr>\n",
       "  </tbody>\n",
       "</table>\n",
       "</div>"
      ],
      "text/plain": [
       "              N  NMISS       SUM  MEAN  MEDIAN   STD     VAR   MIN    P1  \\\n",
       "age      5000.0    0.0  235128.0  47.0    47.0  17.8   315.8  18.0  18.0   \n",
       "ed       5000.0    0.0   72715.0  14.5    14.0   3.3    10.8   6.0   8.0   \n",
       "income   5000.0    0.0  273798.0  54.8    38.0  55.4  3066.7   9.0   9.0   \n",
       "lninc    5000.0    0.0   18499.5   3.7     3.6   0.7     0.6   2.2   2.2   \n",
       "debtinc  5000.0    0.0   49770.8  10.0     8.8   6.4    41.0   0.0   0.7   \n",
       "\n",
       "           P5   P10   P25   P50   P75    P90    P95    P99     MAX  \n",
       "age      20.0  23.0  31.0  47.0  62.0   72.0   76.0   79.0    79.0  \n",
       "ed        9.0  10.0  12.0  14.0  17.0   19.0   20.0   21.0    23.0  \n",
       "income   13.0  16.0  24.0  38.0  67.0  109.1  147.0  272.0  1073.0  \n",
       "lninc     2.6   2.8   3.2   3.6   4.2    4.7    5.0    5.6     7.0  \n",
       "debtinc   1.9   2.8   5.1   8.8  13.6   18.6   22.2   29.2    43.1  "
      ]
     },
     "execution_count": 21,
     "metadata": {},
     "output_type": "execute_result"
    }
   ],
   "source": [
    "num_summary=credit_conti_var.apply(continuous_var_summary).T.round(1)\n",
    "num_summary.to_excel(writer,sheet_name = 'Numerical Variable Summary', index=True)\n",
    "num_summary.head()"
   ]
  },
  {
   "cell_type": "markdown",
   "metadata": {},
   "source": [
    "## Generating Pandas profile Report to check for correlations and other problems"
   ]
  },
  {
   "cell_type": "code",
   "execution_count": 22,
   "metadata": {},
   "outputs": [],
   "source": [
    "#report_2= pp.ProfileReport(credit)\n",
    "#report_2.to_file(outputfile = 'profilereport_Credit_2.html')"
   ]
  },
  {
   "cell_type": "markdown",
   "metadata": {},
   "source": [
    "**From the above profile report, we found some highly correlated variables...**\n",
    "\n",
    "   -addresscat is highly correlated with address (ρ = 0.9235209425)\tRejected  \n",
    "   -agecat is highly correlated with age (ρ = 0.9698787511)\tRejected  \n",
    "   -card2tenurecat is highly correlated with card2tenure (ρ = 0.9243911464)\tRejected  \n",
    "   -cardtenure is highly correlated with card2tenure (ρ = 0.9629752995)\tRejected  \n",
    "   -cardtenurecat is highly correlated with card2tenurecat (ρ = 0.9243052909) Rejected  \n",
    "   -commutecat is highly correlated with commute (ρ = 0.981171323)\tRejected  \n",
    "   -edcat is highly correlated with ed (ρ = 0.9638959094)\tRejected  \n",
    "   -equipmon is highly correlated with equip (ρ = 0.9405054161)\tRejected  \n",
    "   -lninc is highly correlated with inccat (ρ = 0.9487921563)\tRejected   \n",
    "   -lnlongten is highly correlated with lnlongmon (ρ = 0.9217106724) Rejected   \n",
    "   -longten is highly correlated with longmon (ρ = 0.9856982538)\tRejected   \n",
    "   -spoused is highly correlated with marital (ρ = 0.9557686636)\tRejected   \n",
    "   -spousedcat is highly correlated with spoused (ρ = 0.9840285958)\tRejected   \n",
    "   -tenure is highly correlated with lnlongten (ρ = 0.9268535788)\tRejected  \n",
    "\n",
    "\n",
    "**So we must drop these variables**  \n",
    "     ['addresscat','agecat','card2tenure','commutecat','edcat','equipmon','inccat','lnlongten',\n",
    "            'longten', 'spoused','spousedcat','tenure']"
   ]
  },
  {
   "cell_type": "code",
   "execution_count": 23,
   "metadata": {},
   "outputs": [
    {
     "name": "stdout",
     "output_type": "stream",
     "text": [
      "addresscat\n",
      "agecat\n",
      "cardtenurecat\n",
      "card2tenurecat\n",
      "cardtenure\n",
      "commutecat\n",
      "edcat\n",
      "inccat\n",
      "spousedcat\n"
     ]
    }
   ],
   "source": [
    "# dropping only numerical variables that are correlated, retianing categorical variables for dummy creation\n",
    "\n",
    "drop_col=['addresscat','agecat','cardtenurecat','card2tenurecat','cardtenure','commutecat','edcat','equipmon','inccat','lnlongten',\n",
    "            'longten', 'spoused','spousedcat','tenure','tollmon','wiremon']\n",
    "drop_list=[]\n",
    "for var in drop_col:\n",
    "    if var in numerical_var:\n",
    "        list_drop([var])\n",
    "    else:\n",
    "        print(var)\n",
    "        drop_list.append(var)    "
   ]
  },
  {
   "cell_type": "markdown",
   "metadata": {},
   "source": [
    "### Outlier Treatment"
   ]
  },
  {
   "cell_type": "code",
   "execution_count": 24,
   "metadata": {},
   "outputs": [],
   "source": [
    "credit[numerical_var]=credit[numerical_var].apply(lambda x: x.clip(lower = x.dropna().quantile(0.01), upper = x.quantile(0.99)))"
   ]
  },
  {
   "cell_type": "code",
   "execution_count": 25,
   "metadata": {},
   "outputs": [],
   "source": [
    "credit.to_excel(writer,'Outlier_Treatment',index=True)"
   ]
  },
  {
   "cell_type": "markdown",
   "metadata": {},
   "source": [
    "### Missing Value Imputation"
   ]
  },
  {
   "cell_type": "code",
   "execution_count": 26,
   "metadata": {},
   "outputs": [
    {
     "data": {
      "text/plain": [
       "0"
      ]
     },
     "execution_count": 26,
     "metadata": {},
     "output_type": "execute_result"
    }
   ],
   "source": [
    "credit[cat_var]=credit[cat_var].apply(lambda x: x.fillna(x.mode()[0]))\n",
    "\n",
    "sum(credit[cat_var].isna().sum())"
   ]
  },
  {
   "cell_type": "code",
   "execution_count": 27,
   "metadata": {},
   "outputs": [
    {
     "data": {
      "text/plain": [
       "0"
      ]
     },
     "execution_count": 27,
     "metadata": {},
     "output_type": "execute_result"
    }
   ],
   "source": [
    "credit[numerical_var]=credit[numerical_var].apply(lambda x: x.fillna(x.median()))\n",
    "\n",
    "sum(credit[numerical_var].isna().sum())"
   ]
  },
  {
   "cell_type": "code",
   "execution_count": 28,
   "metadata": {},
   "outputs": [],
   "source": [
    "credit.to_excel(writer,'Missing Value Treated',index=True)"
   ]
  },
  {
   "cell_type": "markdown",
   "metadata": {},
   "source": [
    "### Converting categorical columns to numerical ones and Creating Dummies"
   ]
  },
  {
   "cell_type": "code",
   "execution_count": 29,
   "metadata": {},
   "outputs": [],
   "source": [
    "from time import strptime\n",
    "def tomonth(x):\n",
    "    month_number=strptime(x, '%B').tm_mon\n",
    "    return month_number\n",
    "\n",
    "credit['birthmonth']=credit['birthmonth'].map(lambda x: tomonth(x))"
   ]
  },
  {
   "cell_type": "code",
   "execution_count": 30,
   "metadata": {},
   "outputs": [],
   "source": [
    "# converting only these variables to dummies because remaning variables are in boolean form, \n",
    "# I dont think making dummies out of boolean data makes sense\n",
    "\n",
    "cat_to_dum=['region', 'townsize','gender','agecat','edcat','empcat','inccat','jobsat','spousedcat',\n",
    "         'hometype','addresscat','cars','carown','cartype','carcatvalue',\n",
    "         'carbought','commutecat','reason','polview','card','cardtype','cardbenefit',\n",
    "         'cardtenurecat','card2','card2type','card2benefit','card2tenurecat',\n",
    "         'bfast','internet']\n",
    "\n",
    "credit_cat=credit.loc[:,cat_to_dum]\n",
    "for var in cat_to_dum:\n",
    "    credit_cat.loc[:,var]=credit_cat.loc[:,var].astype(str)\n",
    "    credit_cat=create_dummies(credit_cat, var)"
   ]
  },
  {
   "cell_type": "code",
   "execution_count": 31,
   "metadata": {},
   "outputs": [
    {
     "data": {
      "text/plain": [
       "(5000, 107)"
      ]
     },
     "execution_count": 31,
     "metadata": {},
     "output_type": "execute_result"
    }
   ],
   "source": [
    "credit_cat.shape"
   ]
  },
  {
   "cell_type": "code",
   "execution_count": 32,
   "metadata": {},
   "outputs": [],
   "source": [
    "list_drop(cat_to_dum)"
   ]
  },
  {
   "cell_type": "code",
   "execution_count": 33,
   "metadata": {},
   "outputs": [
    {
     "data": {
      "text/plain": [
       "(5000, 199)"
      ]
     },
     "execution_count": 33,
     "metadata": {},
     "output_type": "execute_result"
    }
   ],
   "source": [
    "credit=pd.concat([credit,credit_cat],axis=1)\n",
    "credit.shape"
   ]
  },
  {
   "cell_type": "markdown",
   "metadata": {},
   "source": [
    "#### log of all these variables is there in the data - we can drop these \n",
    "'income','othdebt','creddebt'  "
   ]
  },
  {
   "cell_type": "code",
   "execution_count": 34,
   "metadata": {},
   "outputs": [],
   "source": [
    "list_drop(['income','othdebt','creddebt'])"
   ]
  },
  {
   "cell_type": "markdown",
   "metadata": {},
   "source": [
    "## Splitting Training and Testing Data"
   ]
  },
  {
   "cell_type": "code",
   "execution_count": 35,
   "metadata": {},
   "outputs": [
    {
     "name": "stdout",
     "output_type": "stream",
     "text": [
      "3500\n",
      "3500\n",
      "1500\n",
      "1500\n",
      "(5000, 196)\n"
     ]
    }
   ],
   "source": [
    "#Splitting the data\n",
    "feature_columns = credit.columns.difference( ['total_spent_ln'] )\n",
    "train_X, test_X, train_y, test_y = train_test_split(credit[feature_columns],\n",
    "                                                  credit['total_spent_ln'],\n",
    "                                                  test_size=0.3,random_state=123)\n",
    "                                                  \n",
    "print (len( train_X ))\n",
    "print (len (train_y))\n",
    "print (len( test_X))\n",
    "print (len( test_y))\n",
    "print (credit.shape)"
   ]
  },
  {
   "cell_type": "markdown",
   "metadata": {},
   "source": [
    "## Random Forest For Feature selection and importance"
   ]
  },
  {
   "cell_type": "code",
   "execution_count": 36,
   "metadata": {},
   "outputs": [],
   "source": [
    "from sklearn.ensemble import RandomForestRegressor\n",
    "from sklearn.model_selection import GridSearchCV"
   ]
  },
  {
   "cell_type": "code",
   "execution_count": 37,
   "metadata": {},
   "outputs": [],
   "source": [
    "param_grid={'n_estimators':np.arange(10,25)}"
   ]
  },
  {
   "cell_type": "code",
   "execution_count": 38,
   "metadata": {},
   "outputs": [
    {
     "data": {
      "text/plain": [
       "GridSearchCV(cv=2, estimator=RandomForestRegressor(warm_start=True),\n",
       "             param_grid={'n_estimators': array([10, 11, 12, 13, 14, 15, 16, 17, 18, 19, 20, 21, 22, 23, 24])})"
      ]
     },
     "execution_count": 38,
     "metadata": {},
     "output_type": "execute_result"
    }
   ],
   "source": [
    "tree=GridSearchCV(RandomForestRegressor(oob_score=False,warm_start=True),param_grid,cv=2)\n",
    "tree.fit(train_X,train_y)  "
   ]
  },
  {
   "cell_type": "code",
   "execution_count": 39,
   "metadata": {},
   "outputs": [
    {
     "data": {
      "text/plain": [
       "22"
      ]
     },
     "execution_count": 39,
     "metadata": {},
     "output_type": "execute_result"
    }
   ],
   "source": [
    "n_estimators =  tree.best_params_['n_estimators']\n",
    "n_estimators"
   ]
  },
  {
   "cell_type": "markdown",
   "metadata": {},
   "source": [
    "### Making model according to best parameters:"
   ]
  },
  {
   "cell_type": "code",
   "execution_count": 40,
   "metadata": {},
   "outputs": [
    {
     "data": {
      "text/plain": [
       "RandomForestRegressor(n_estimators=23, oob_score=True)"
      ]
     },
     "execution_count": 40,
     "metadata": {},
     "output_type": "execute_result"
    }
   ],
   "source": [
    "clf_rf = RandomForestRegressor(oob_score=True,n_estimators=23)\n",
    "clf_rf.fit( train_X, train_y)"
   ]
  },
  {
   "cell_type": "code",
   "execution_count": 41,
   "metadata": {},
   "outputs": [
    {
     "data": {
      "text/plain": [
       "0.12881144377076748"
      ]
     },
     "execution_count": 41,
     "metadata": {},
     "output_type": "execute_result"
    }
   ],
   "source": [
    "clf_rf.oob_score_"
   ]
  },
  {
   "cell_type": "code",
   "execution_count": 42,
   "metadata": {},
   "outputs": [],
   "source": [
    "from sklearn import metrics"
   ]
  },
  {
   "cell_type": "code",
   "execution_count": 43,
   "metadata": {},
   "outputs": [
    {
     "data": {
      "text/html": [
       "<div>\n",
       "<style scoped>\n",
       "    .dataframe tbody tr th:only-of-type {\n",
       "        vertical-align: middle;\n",
       "    }\n",
       "\n",
       "    .dataframe tbody tr th {\n",
       "        vertical-align: top;\n",
       "    }\n",
       "\n",
       "    .dataframe thead th {\n",
       "        text-align: right;\n",
       "    }\n",
       "</style>\n",
       "<table border=\"1\" class=\"dataframe\">\n",
       "  <thead>\n",
       "    <tr style=\"text-align: right;\">\n",
       "      <th></th>\n",
       "      <th>Coefficients</th>\n",
       "    </tr>\n",
       "  </thead>\n",
       "  <tbody>\n",
       "    <tr>\n",
       "      <th>lninc</th>\n",
       "      <td>0.202040</td>\n",
       "    </tr>\n",
       "    <tr>\n",
       "      <th>lncreddebt</th>\n",
       "      <td>0.030108</td>\n",
       "    </tr>\n",
       "    <tr>\n",
       "      <th>lnothdebt</th>\n",
       "      <td>0.027289</td>\n",
       "    </tr>\n",
       "    <tr>\n",
       "      <th>debtinc</th>\n",
       "      <td>0.024820</td>\n",
       "    </tr>\n",
       "    <tr>\n",
       "      <th>carvalue</th>\n",
       "      <td>0.024396</td>\n",
       "    </tr>\n",
       "    <tr>\n",
       "      <th>card_3</th>\n",
       "      <td>0.023757</td>\n",
       "    </tr>\n",
       "    <tr>\n",
       "      <th>commutetime</th>\n",
       "      <td>0.022447</td>\n",
       "    </tr>\n",
       "    <tr>\n",
       "      <th>hourstv</th>\n",
       "      <td>0.018310</td>\n",
       "    </tr>\n",
       "    <tr>\n",
       "      <th>card_4</th>\n",
       "      <td>0.017656</td>\n",
       "    </tr>\n",
       "    <tr>\n",
       "      <th>birthmonth</th>\n",
       "      <td>0.015946</td>\n",
       "    </tr>\n",
       "  </tbody>\n",
       "</table>\n",
       "</div>"
      ],
      "text/plain": [
       "             Coefficients\n",
       "lninc            0.202040\n",
       "lncreddebt       0.030108\n",
       "lnothdebt        0.027289\n",
       "debtinc          0.024820\n",
       "carvalue         0.024396\n",
       "card_3           0.023757\n",
       "commutetime      0.022447\n",
       "hourstv          0.018310\n",
       "card_4           0.017656\n",
       "birthmonth       0.015946"
      ]
     },
     "execution_count": 43,
     "metadata": {},
     "output_type": "execute_result"
    }
   ],
   "source": [
    "ce=pd.DataFrame(clf_rf.feature_importances_, index=train_X.columns, columns={'Coefficients' : 0})\n",
    "ce.sort_values('Coefficients',ascending=False,inplace=True)\n",
    "ce.to_csv('rf_feature_imp')\n",
    "ce.head(10)"
   ]
  },
  {
   "cell_type": "code",
   "execution_count": 44,
   "metadata": {},
   "outputs": [],
   "source": [
    "top_features=list(ce.index[0:40])"
   ]
  },
  {
   "cell_type": "code",
   "execution_count": 45,
   "metadata": {},
   "outputs": [
    {
     "data": {
      "text/html": [
       "<div>\n",
       "<style scoped>\n",
       "    .dataframe tbody tr th:only-of-type {\n",
       "        vertical-align: middle;\n",
       "    }\n",
       "\n",
       "    .dataframe tbody tr th {\n",
       "        vertical-align: top;\n",
       "    }\n",
       "\n",
       "    .dataframe thead th {\n",
       "        text-align: right;\n",
       "    }\n",
       "</style>\n",
       "<table border=\"1\" class=\"dataframe\">\n",
       "  <thead>\n",
       "    <tr style=\"text-align: right;\">\n",
       "      <th></th>\n",
       "      <th>lninc</th>\n",
       "      <th>lncreddebt</th>\n",
       "      <th>lnothdebt</th>\n",
       "      <th>debtinc</th>\n",
       "      <th>carvalue</th>\n",
       "      <th>card_3</th>\n",
       "      <th>commutetime</th>\n",
       "      <th>hourstv</th>\n",
       "      <th>card_4</th>\n",
       "      <th>birthmonth</th>\n",
       "      <th>...</th>\n",
       "      <th>lnwiremon</th>\n",
       "      <th>equipten</th>\n",
       "      <th>reside</th>\n",
       "      <th>card2_2</th>\n",
       "      <th>card2_3</th>\n",
       "      <th>pets_freshfish</th>\n",
       "      <th>pets_cats</th>\n",
       "      <th>lntollten</th>\n",
       "      <th>pets_dogs</th>\n",
       "      <th>total_spent_ln</th>\n",
       "    </tr>\n",
       "  </thead>\n",
       "  <tbody>\n",
       "    <tr>\n",
       "      <th>0</th>\n",
       "      <td>3.433987</td>\n",
       "      <td>0.183079</td>\n",
       "      <td>0.806516</td>\n",
       "      <td>11.1</td>\n",
       "      <td>14.3</td>\n",
       "      <td>1</td>\n",
       "      <td>22.0</td>\n",
       "      <td>13</td>\n",
       "      <td>0</td>\n",
       "      <td>9</td>\n",
       "      <td>...</td>\n",
       "      <td>3.605001</td>\n",
       "      <td>126.1</td>\n",
       "      <td>3</td>\n",
       "      <td>0</td>\n",
       "      <td>0</td>\n",
       "      <td>0</td>\n",
       "      <td>0</td>\n",
       "      <td>5.081715</td>\n",
       "      <td>0</td>\n",
       "      <td>5.007029</td>\n",
       "    </tr>\n",
       "    <tr>\n",
       "      <th>1</th>\n",
       "      <td>2.708050</td>\n",
       "      <td>0.200505</td>\n",
       "      <td>0.449788</td>\n",
       "      <td>18.6</td>\n",
       "      <td>6.8</td>\n",
       "      <td>0</td>\n",
       "      <td>29.0</td>\n",
       "      <td>18</td>\n",
       "      <td>0</td>\n",
       "      <td>5</td>\n",
       "      <td>...</td>\n",
       "      <td>3.821004</td>\n",
       "      <td>1975.0</td>\n",
       "      <td>2</td>\n",
       "      <td>0</td>\n",
       "      <td>0</td>\n",
       "      <td>6</td>\n",
       "      <td>0</td>\n",
       "      <td>6.584783</td>\n",
       "      <td>0</td>\n",
       "      <td>4.350794</td>\n",
       "    </tr>\n",
       "    <tr>\n",
       "      <th>2</th>\n",
       "      <td>3.555348</td>\n",
       "      <td>-0.074056</td>\n",
       "      <td>0.930738</td>\n",
       "      <td>9.9</td>\n",
       "      <td>18.8</td>\n",
       "      <td>0</td>\n",
       "      <td>24.0</td>\n",
       "      <td>21</td>\n",
       "      <td>0</td>\n",
       "      <td>6</td>\n",
       "      <td>...</td>\n",
       "      <td>3.605001</td>\n",
       "      <td>0.0</td>\n",
       "      <td>3</td>\n",
       "      <td>0</td>\n",
       "      <td>0</td>\n",
       "      <td>0</td>\n",
       "      <td>2</td>\n",
       "      <td>6.584783</td>\n",
       "      <td>1</td>\n",
       "      <td>5.886021</td>\n",
       "    </tr>\n",
       "    <tr>\n",
       "      <th>3</th>\n",
       "      <td>2.995732</td>\n",
       "      <td>-3.401644</td>\n",
       "      <td>0.110826</td>\n",
       "      <td>5.7</td>\n",
       "      <td>8.7</td>\n",
       "      <td>0</td>\n",
       "      <td>38.0</td>\n",
       "      <td>26</td>\n",
       "      <td>0</td>\n",
       "      <td>5</td>\n",
       "      <td>...</td>\n",
       "      <td>3.605001</td>\n",
       "      <td>0.0</td>\n",
       "      <td>5</td>\n",
       "      <td>0</td>\n",
       "      <td>1</td>\n",
       "      <td>0</td>\n",
       "      <td>0</td>\n",
       "      <td>6.584783</td>\n",
       "      <td>0</td>\n",
       "      <td>5.884464</td>\n",
       "    </tr>\n",
       "    <tr>\n",
       "      <th>4</th>\n",
       "      <td>3.135494</td>\n",
       "      <td>-1.538705</td>\n",
       "      <td>-1.735336</td>\n",
       "      <td>1.7</td>\n",
       "      <td>10.6</td>\n",
       "      <td>0</td>\n",
       "      <td>32.0</td>\n",
       "      <td>27</td>\n",
       "      <td>1</td>\n",
       "      <td>7</td>\n",
       "      <td>...</td>\n",
       "      <td>2.947067</td>\n",
       "      <td>0.0</td>\n",
       "      <td>4</td>\n",
       "      <td>0</td>\n",
       "      <td>0</td>\n",
       "      <td>0</td>\n",
       "      <td>0</td>\n",
       "      <td>5.960232</td>\n",
       "      <td>0</td>\n",
       "      <td>6.230147</td>\n",
       "    </tr>\n",
       "  </tbody>\n",
       "</table>\n",
       "<p>5 rows × 41 columns</p>\n",
       "</div>"
      ],
      "text/plain": [
       "      lninc  lncreddebt  lnothdebt  debtinc  carvalue  card_3  commutetime  \\\n",
       "0  3.433987    0.183079   0.806516     11.1      14.3       1         22.0   \n",
       "1  2.708050    0.200505   0.449788     18.6       6.8       0         29.0   \n",
       "2  3.555348   -0.074056   0.930738      9.9      18.8       0         24.0   \n",
       "3  2.995732   -3.401644   0.110826      5.7       8.7       0         38.0   \n",
       "4  3.135494   -1.538705  -1.735336      1.7      10.6       0         32.0   \n",
       "\n",
       "   hourstv  card_4  birthmonth  ...  lnwiremon  equipten  reside  card2_2  \\\n",
       "0       13       0           9  ...   3.605001     126.1       3        0   \n",
       "1       18       0           5  ...   3.821004    1975.0       2        0   \n",
       "2       21       0           6  ...   3.605001       0.0       3        0   \n",
       "3       26       0           5  ...   3.605001       0.0       5        0   \n",
       "4       27       1           7  ...   2.947067       0.0       4        0   \n",
       "\n",
       "   card2_3  pets_freshfish  pets_cats  lntollten  pets_dogs  total_spent_ln  \n",
       "0        0               0          0   5.081715          0        5.007029  \n",
       "1        0               6          0   6.584783          0        4.350794  \n",
       "2        0               0          2   6.584783          1        5.886021  \n",
       "3        1               0          0   6.584783          0        5.884464  \n",
       "4        0               0          0   5.960232          0        6.230147  \n",
       "\n",
       "[5 rows x 41 columns]"
      ]
     },
     "execution_count": 45,
     "metadata": {},
     "output_type": "execute_result"
    }
   ],
   "source": [
    "# Create data frame with selected features\n",
    "top_features.append('total_spent_ln')\n",
    "rf_df=credit[top_features]\n",
    "rf_df.head()"
   ]
  },
  {
   "cell_type": "markdown",
   "metadata": {},
   "source": [
    "## Taking Care of multicolinearlity with the help of VIF, dropping features having VIF>9"
   ]
  },
  {
   "cell_type": "code",
   "execution_count": 46,
   "metadata": {},
   "outputs": [
    {
     "data": {
      "text/plain": [
       "'lninc+lncreddebt+lnothdebt+debtinc+carvalue+card_3+commutetime+hourstv+card_4+birthmonth+age+card_2+reason_2+lncardmon+address+lnequipmon+employ+ed+cardmon+pets+lncardten+longmon+lnlongmon+cardtenure+card2tenure+cardten+lntollmon+jobcat+commute+lnequipten+tollten+lnwiremon+equipten+reside+card2_2+card2_3+pets_freshfish+pets_cats+lntollten+pets_dogs+total_spent_ln'"
      ]
     },
     "execution_count": 46,
     "metadata": {},
     "output_type": "execute_result"
    }
   ],
   "source": [
    "top_features=list(ce.index[0:40])\n",
    "top_features.append('total_spent_ln')\n",
    "rf_df=credit[top_features]\n",
    "features = \"+\".join(top_features)\n",
    "features"
   ]
  },
  {
   "cell_type": "code",
   "execution_count": 47,
   "metadata": {},
   "outputs": [],
   "source": [
    "y, X = dmatrices('total_spent_ln~'+features,rf_df, return_type='dataframe')"
   ]
  },
  {
   "cell_type": "code",
   "execution_count": 48,
   "metadata": {},
   "outputs": [
    {
     "data": {
      "text/html": [
       "<div>\n",
       "<style scoped>\n",
       "    .dataframe tbody tr th:only-of-type {\n",
       "        vertical-align: middle;\n",
       "    }\n",
       "\n",
       "    .dataframe tbody tr th {\n",
       "        vertical-align: top;\n",
       "    }\n",
       "\n",
       "    .dataframe thead th {\n",
       "        text-align: right;\n",
       "    }\n",
       "</style>\n",
       "<table border=\"1\" class=\"dataframe\">\n",
       "  <thead>\n",
       "    <tr style=\"text-align: right;\">\n",
       "      <th></th>\n",
       "      <th>VIF Factor</th>\n",
       "      <th>features</th>\n",
       "    </tr>\n",
       "  </thead>\n",
       "  <tbody>\n",
       "    <tr>\n",
       "      <th>0</th>\n",
       "      <td>1518.593569</td>\n",
       "      <td>Intercept</td>\n",
       "    </tr>\n",
       "    <tr>\n",
       "      <th>24</th>\n",
       "      <td>16.856211</td>\n",
       "      <td>cardtenure</td>\n",
       "    </tr>\n",
       "    <tr>\n",
       "      <th>25</th>\n",
       "      <td>15.964511</td>\n",
       "      <td>card2tenure</td>\n",
       "    </tr>\n",
       "    <tr>\n",
       "      <th>20</th>\n",
       "      <td>13.278062</td>\n",
       "      <td>pets</td>\n",
       "    </tr>\n",
       "    <tr>\n",
       "      <th>26</th>\n",
       "      <td>12.244080</td>\n",
       "      <td>cardten</td>\n",
       "    </tr>\n",
       "    <tr>\n",
       "      <th>37</th>\n",
       "      <td>11.828722</td>\n",
       "      <td>pets_freshfish</td>\n",
       "    </tr>\n",
       "    <tr>\n",
       "      <th>19</th>\n",
       "      <td>8.724571</td>\n",
       "      <td>cardmon</td>\n",
       "    </tr>\n",
       "    <tr>\n",
       "      <th>23</th>\n",
       "      <td>8.245890</td>\n",
       "      <td>lnlongmon</td>\n",
       "    </tr>\n",
       "    <tr>\n",
       "      <th>1</th>\n",
       "      <td>7.688558</td>\n",
       "      <td>lninc</td>\n",
       "    </tr>\n",
       "    <tr>\n",
       "      <th>21</th>\n",
       "      <td>7.081341</td>\n",
       "      <td>lncardten</td>\n",
       "    </tr>\n",
       "  </tbody>\n",
       "</table>\n",
       "</div>"
      ],
      "text/plain": [
       "     VIF Factor        features\n",
       "0   1518.593569       Intercept\n",
       "24    16.856211      cardtenure\n",
       "25    15.964511     card2tenure\n",
       "20    13.278062            pets\n",
       "26    12.244080         cardten\n",
       "37    11.828722  pets_freshfish\n",
       "19     8.724571         cardmon\n",
       "23     8.245890       lnlongmon\n",
       "1      7.688558           lninc\n",
       "21     7.081341       lncardten"
      ]
     },
     "execution_count": 48,
     "metadata": {},
     "output_type": "execute_result"
    }
   ],
   "source": [
    "# For each X, calculate VIF and save in the dataframe\n",
    "vif = pd.DataFrame()\n",
    "vif[\"VIF Factor\"] = [variance_inflation_factor(X.values, i) for i in range(X.shape[1])]\n",
    "vif[\"features\"] = X.columns\n",
    "vif.sort_values(by=['VIF Factor'],ascending=False).head(10)"
   ]
  },
  {
   "cell_type": "code",
   "execution_count": 49,
   "metadata": {},
   "outputs": [
    {
     "data": {
      "text/plain": [
       "['pets', 'cardtenure', 'card2tenure', 'cardten', 'pets_freshfish']"
      ]
     },
     "execution_count": 49,
     "metadata": {},
     "output_type": "execute_result"
    }
   ],
   "source": [
    "vif1=vif[vif['VIF Factor']>9.9].reset_index().loc[:,['features']]\n",
    "vif1.drop([0],axis=0,inplace=True)\n",
    "drop_vars= vif1[\"features\"].tolist()\n",
    "drop_vars"
   ]
  },
  {
   "cell_type": "code",
   "execution_count": 50,
   "metadata": {},
   "outputs": [
    {
     "name": "stderr",
     "output_type": "stream",
     "text": [
      "/opt/anaconda3/lib/python3.8/site-packages/pandas/core/frame.py:4308: SettingWithCopyWarning: \n",
      "A value is trying to be set on a copy of a slice from a DataFrame\n",
      "\n",
      "See the caveats in the documentation: https://pandas.pydata.org/pandas-docs/stable/user_guide/indexing.html#returning-a-view-versus-a-copy\n",
      "  return super().drop(\n"
     ]
    }
   ],
   "source": [
    "rf_df.drop(drop_vars,axis=1,inplace=True)"
   ]
  },
  {
   "cell_type": "code",
   "execution_count": 51,
   "metadata": {},
   "outputs": [
    {
     "data": {
      "text/plain": [
       "(5000, 36)"
      ]
     },
     "execution_count": 51,
     "metadata": {},
     "output_type": "execute_result"
    }
   ],
   "source": [
    "rf_df.shape"
   ]
  },
  {
   "cell_type": "code",
   "execution_count": 52,
   "metadata": {},
   "outputs": [],
   "source": [
    "# Dropping p values greater than 5% one by one"
   ]
  },
  {
   "cell_type": "code",
   "execution_count": 53,
   "metadata": {},
   "outputs": [],
   "source": [
    "feature_columns=rf_df.columns.difference(['total_spent_ln', 'pets_cats', 'reside', 'cardbenefit_3', 'pets_dogs','cardten',\n",
    "                                           'lnothdebt', 'wireten', 'commute', 'birthmonth' , 'commutetime', 'debtinc',\n",
    "                                          'hourstv', 'lnlongmon', 'longmon', 'tollten' , 'carvalue', 'employ', 'carbuy',\n",
    "                                          'address','cardmon', 'internet_4', 'lncreddebt'\n",
    "                                         ])"
   ]
  },
  {
   "cell_type": "code",
   "execution_count": 54,
   "metadata": {},
   "outputs": [],
   "source": [
    "train_X,test_X,train_y,test_y=train_test_split(rf_df[feature_columns],\n",
    "                                              rf_df['total_spent_ln'],\n",
    "                                               test_size=.25,\n",
    "                                               random_state=123)"
   ]
  },
  {
   "cell_type": "code",
   "execution_count": 55,
   "metadata": {},
   "outputs": [],
   "source": [
    "train_X = sm.add_constant(train_X)\n",
    "test_X=sm.add_constant(test_X)\n",
    "lm=sm.OLS(train_y,train_X).fit()"
   ]
  },
  {
   "cell_type": "code",
   "execution_count": 56,
   "metadata": {},
   "outputs": [
    {
     "name": "stdout",
     "output_type": "stream",
     "text": [
      "                            OLS Regression Results                            \n",
      "==============================================================================\n",
      "Dep. Variable:         total_spent_ln   R-squared:                       0.300\n",
      "Model:                            OLS   Adj. R-squared:                  0.297\n",
      "Method:                 Least Squares   F-statistic:                     88.85\n",
      "Date:                Fri, 27 Aug 2021   Prob (F-statistic):          2.42e-272\n",
      "Time:                        15:11:02   Log-Likelihood:                -3059.5\n",
      "No. Observations:                3750   AIC:                             6157.\n",
      "Df Residuals:                    3731   BIC:                             6275.\n",
      "Df Model:                          18                                         \n",
      "Covariance Type:            nonrobust                                         \n",
      "==============================================================================\n",
      "                 coef    std err          t      P>|t|      [0.025      0.975]\n",
      "------------------------------------------------------------------------------\n",
      "const          5.2417      0.272     19.274      0.000       4.708       5.775\n",
      "age           -0.0018      0.001     -3.149      0.002      -0.003      -0.001\n",
      "card2_2       -0.1849      0.023     -8.021      0.000      -0.230      -0.140\n",
      "card2_3       -0.1744      0.023     -7.662      0.000      -0.219      -0.130\n",
      "card_2        -0.4219      0.027    -15.675      0.000      -0.475      -0.369\n",
      "card_3        -0.4322      0.027    -16.111      0.000      -0.485      -0.380\n",
      "card_4        -0.4450      0.026    -17.397      0.000      -0.495      -0.395\n",
      "ed            -0.0057      0.003     -1.799      0.072      -0.012       0.001\n",
      "equipten    2.854e-05   1.42e-05      2.014      0.044    7.52e-07    5.63e-05\n",
      "jobcat        -0.0139      0.005     -2.663      0.008      -0.024      -0.004\n",
      "lncardmon      0.0005      0.029      0.016      0.987      -0.056       0.056\n",
      "lncardten     -0.0109      0.018     -0.596      0.551      -0.047       0.025\n",
      "lnequipmon     0.1207      0.073      1.647      0.100      -0.023       0.264\n",
      "lnequipten    -0.0183      0.020     -0.900      0.368      -0.058       0.022\n",
      "lninc          0.3664      0.013     28.318      0.000       0.341       0.392\n",
      "lntollmon     -0.0646      0.054     -1.192      0.233      -0.171       0.042\n",
      "lntollten      0.0341      0.023      1.484      0.138      -0.011       0.079\n",
      "lnwiremon     -0.0712      0.056     -1.270      0.204      -0.181       0.039\n",
      "reason_2       0.3099      0.036      8.497      0.000       0.238       0.381\n",
      "==============================================================================\n",
      "Omnibus:                       84.618   Durbin-Watson:                   1.974\n",
      "Prob(Omnibus):                  0.000   Jarque-Bera (JB):               90.802\n",
      "Skew:                          -0.358   Prob(JB):                     1.92e-20\n",
      "Kurtosis:                       3.259   Cond. No.                     3.08e+04\n",
      "==============================================================================\n",
      "\n",
      "Notes:\n",
      "[1] Standard Errors assume that the covariance matrix of the errors is correctly specified.\n",
      "[2] The condition number is large, 3.08e+04. This might indicate that there are\n",
      "strong multicollinearity or other numerical problems.\n"
     ]
    }
   ],
   "source": [
    "print(lm.summary())"
   ]
  },
  {
   "cell_type": "code",
   "execution_count": 57,
   "metadata": {},
   "outputs": [],
   "source": [
    "f=open('model Summary.csv','w')\n",
    "f.write(lm.summary().as_csv())\n",
    "#f.write(lm.summary().as_latex())\n",
    "f.close()"
   ]
  },
  {
   "cell_type": "code",
   "execution_count": 58,
   "metadata": {},
   "outputs": [
    {
     "data": {
      "text/plain": [
       "lncardmon      9.869456e-01\n",
       "lncardten      5.514226e-01\n",
       "lnequipten     3.684242e-01\n",
       "lntollmon      2.334116e-01\n",
       "lnwiremon      2.040759e-01\n",
       "lntollten      1.379023e-01\n",
       "lnequipmon     9.969567e-02\n",
       "ed             7.213665e-02\n",
       "equipten       4.412058e-02\n",
       "jobcat         7.781167e-03\n",
       "age            1.648677e-03\n",
       "card2_3        2.310211e-14\n",
       "card2_2        1.387141e-15\n",
       "reason_2       2.762032e-17\n",
       "card_2         1.109507e-53\n",
       "card_3         1.655886e-56\n",
       "card_4         3.045267e-65\n",
       "const          5.449126e-79\n",
       "lninc         5.740427e-160\n",
       "dtype: float64"
      ]
     },
     "execution_count": 58,
     "metadata": {},
     "output_type": "execute_result"
    }
   ],
   "source": [
    "lm.pvalues.sort_values(ascending=False)"
   ]
  },
  {
   "cell_type": "code",
   "execution_count": 59,
   "metadata": {},
   "outputs": [
    {
     "name": "stdout",
     "output_type": "stream",
     "text": [
      "Parameters: const         5.241689\n",
      "age          -0.001809\n",
      "card2_2      -0.184927\n",
      "card2_3      -0.174373\n",
      "card_2       -0.421915\n",
      "card_3       -0.432234\n",
      "card_4       -0.444983\n",
      "ed           -0.005687\n",
      "equipten      0.000029\n",
      "jobcat       -0.013936\n",
      "lncardmon     0.000467\n",
      "lncardten    -0.010898\n",
      "lnequipmon    0.120716\n",
      "lnequipten   -0.018332\n",
      "lninc         0.366382\n",
      "lntollmon    -0.064596\n",
      "lntollten     0.034098\n",
      "lnwiremon    -0.071161\n",
      "reason_2      0.309875\n",
      "dtype: float64\n",
      "R2:  0.3000324648560616\n"
     ]
    }
   ],
   "source": [
    "print('Parameters:', lm.params) \n",
    "print('R2: ', lm.rsquared) "
   ]
  },
  {
   "cell_type": "markdown",
   "metadata": {},
   "source": [
    "## Model Evaluation using MSE, MAE, RMSE "
   ]
  },
  {
   "cell_type": "code",
   "execution_count": 60,
   "metadata": {},
   "outputs": [
    {
     "name": "stdout",
     "output_type": "stream",
     "text": [
      "MSE for Test: 0.2824969708323724\n",
      "MSE for Train: 0.29935519138347433\n",
      "r2_score:  0.3000324648560613\n"
     ]
    }
   ],
   "source": [
    "test_pred=lm.predict(test_X)\n",
    "train_pred=lm.predict(train_X)\n",
    "\n",
    "print('MSE for Test:',metrics.mean_squared_error(test_y,test_pred))\n",
    "print('MSE for Train:',metrics.mean_squared_error(train_y,train_pred))\n",
    "print ('r2_score: ', metrics.r2_score(train_y, train_pred))"
   ]
  },
  {
   "cell_type": "code",
   "execution_count": 61,
   "metadata": {},
   "outputs": [
    {
     "name": "stdout",
     "output_type": "stream",
     "text": [
      "MAE: 0.4165751291512839\n",
      "RMSE: 0.5315044410278924\n",
      "r2_score:  0.25502098136438545\n"
     ]
    }
   ],
   "source": [
    "print ('MAE:', metrics.mean_absolute_error(test_y, test_pred))\n",
    "print ('RMSE:', np.sqrt(metrics.mean_squared_error(test_y, test_pred)))\n",
    "print ('r2_score: ', metrics.r2_score(test_y, test_pred))"
   ]
  },
  {
   "cell_type": "markdown",
   "metadata": {},
   "source": [
    "## Checking if residuals are normally distributed"
   ]
  },
  {
   "cell_type": "code",
   "execution_count": 62,
   "metadata": {},
   "outputs": [
    {
     "name": "stderr",
     "output_type": "stream",
     "text": [
      "/opt/anaconda3/lib/python3.8/site-packages/seaborn/distributions.py:2557: FutureWarning: `distplot` is a deprecated function and will be removed in a future version. Please adapt your code to use either `displot` (a figure-level function with similar flexibility) or `histplot` (an axes-level function for histograms).\n",
      "  warnings.warn(msg, FutureWarning)\n"
     ]
    },
    {
     "data": {
      "text/plain": [
       "<AxesSubplot:ylabel='Density'>"
      ]
     },
     "execution_count": 62,
     "metadata": {},
     "output_type": "execute_result"
    },
    {
     "data": {
      "image/png": "[encoded data removed]",
      "text/plain": [
       "<Figure size 432x288 with 1 Axes>"
      ]
     },
     "metadata": {},
     "output_type": "display_data"
    }
   ],
   "source": [
    "residuals=train_y-train_pred\n",
    "sns.distplot(residuals)"
   ]
  },
  {
   "cell_type": "markdown",
   "metadata": {},
   "source": [
    "## Predicting Sales "
   ]
  },
  {
   "cell_type": "code",
   "execution_count": 63,
   "metadata": {},
   "outputs": [
    {
     "data": {
      "text/html": [
       "<div>\n",
       "<style scoped>\n",
       "    .dataframe tbody tr th:only-of-type {\n",
       "        vertical-align: middle;\n",
       "    }\n",
       "\n",
       "    .dataframe tbody tr th {\n",
       "        vertical-align: top;\n",
       "    }\n",
       "\n",
       "    .dataframe thead th {\n",
       "        text-align: right;\n",
       "    }\n",
       "</style>\n",
       "<table border=\"1\" class=\"dataframe\">\n",
       "  <thead>\n",
       "    <tr style=\"text-align: right;\">\n",
       "      <th></th>\n",
       "      <th>const</th>\n",
       "      <th>age</th>\n",
       "      <th>card2_2</th>\n",
       "      <th>card2_3</th>\n",
       "      <th>card_2</th>\n",
       "      <th>card_3</th>\n",
       "      <th>card_4</th>\n",
       "      <th>ed</th>\n",
       "      <th>equipten</th>\n",
       "      <th>jobcat</th>\n",
       "      <th>lncardmon</th>\n",
       "      <th>lncardten</th>\n",
       "      <th>lnequipmon</th>\n",
       "      <th>lnequipten</th>\n",
       "      <th>lninc</th>\n",
       "      <th>lntollmon</th>\n",
       "      <th>lntollten</th>\n",
       "      <th>lnwiremon</th>\n",
       "      <th>reason_2</th>\n",
       "    </tr>\n",
       "  </thead>\n",
       "  <tbody>\n",
       "    <tr>\n",
       "      <th>0</th>\n",
       "      <td>1.0</td>\n",
       "      <td>20</td>\n",
       "      <td>0</td>\n",
       "      <td>0</td>\n",
       "      <td>0</td>\n",
       "      <td>1</td>\n",
       "      <td>0</td>\n",
       "      <td>15</td>\n",
       "      <td>126.1</td>\n",
       "      <td>1</td>\n",
       "      <td>2.656757</td>\n",
       "      <td>4.094345</td>\n",
       "      <td>3.384390</td>\n",
       "      <td>4.837075</td>\n",
       "      <td>3.433987</td>\n",
       "      <td>3.367296</td>\n",
       "      <td>5.081715</td>\n",
       "      <td>3.605001</td>\n",
       "      <td>0</td>\n",
       "    </tr>\n",
       "    <tr>\n",
       "      <th>1</th>\n",
       "      <td>1.0</td>\n",
       "      <td>22</td>\n",
       "      <td>0</td>\n",
       "      <td>0</td>\n",
       "      <td>1</td>\n",
       "      <td>0</td>\n",
       "      <td>0</td>\n",
       "      <td>17</td>\n",
       "      <td>1975.0</td>\n",
       "      <td>2</td>\n",
       "      <td>2.772589</td>\n",
       "      <td>6.413459</td>\n",
       "      <td>4.004602</td>\n",
       "      <td>7.588324</td>\n",
       "      <td>2.708050</td>\n",
       "      <td>3.243230</td>\n",
       "      <td>6.584783</td>\n",
       "      <td>3.821004</td>\n",
       "      <td>0</td>\n",
       "    </tr>\n",
       "    <tr>\n",
       "      <th>2</th>\n",
       "      <td>1.0</td>\n",
       "      <td>67</td>\n",
       "      <td>0</td>\n",
       "      <td>0</td>\n",
       "      <td>1</td>\n",
       "      <td>0</td>\n",
       "      <td>0</td>\n",
       "      <td>14</td>\n",
       "      <td>0.0</td>\n",
       "      <td>2</td>\n",
       "      <td>3.135494</td>\n",
       "      <td>7.251345</td>\n",
       "      <td>3.600238</td>\n",
       "      <td>6.747296</td>\n",
       "      <td>3.555348</td>\n",
       "      <td>3.243230</td>\n",
       "      <td>6.584783</td>\n",
       "      <td>3.605001</td>\n",
       "      <td>1</td>\n",
       "    </tr>\n",
       "    <tr>\n",
       "      <th>3</th>\n",
       "      <td>1.0</td>\n",
       "      <td>23</td>\n",
       "      <td>0</td>\n",
       "      <td>1</td>\n",
       "      <td>1</td>\n",
       "      <td>0</td>\n",
       "      <td>0</td>\n",
       "      <td>16</td>\n",
       "      <td>0.0</td>\n",
       "      <td>2</td>\n",
       "      <td>3.044522</td>\n",
       "      <td>6.529419</td>\n",
       "      <td>3.600238</td>\n",
       "      <td>6.747296</td>\n",
       "      <td>2.995732</td>\n",
       "      <td>3.243230</td>\n",
       "      <td>6.584783</td>\n",
       "      <td>3.605001</td>\n",
       "      <td>0</td>\n",
       "    </tr>\n",
       "    <tr>\n",
       "      <th>4</th>\n",
       "      <td>1.0</td>\n",
       "      <td>26</td>\n",
       "      <td>0</td>\n",
       "      <td>0</td>\n",
       "      <td>0</td>\n",
       "      <td>0</td>\n",
       "      <td>1</td>\n",
       "      <td>16</td>\n",
       "      <td>0.0</td>\n",
       "      <td>2</td>\n",
       "      <td>2.847812</td>\n",
       "      <td>5.886104</td>\n",
       "      <td>3.600238</td>\n",
       "      <td>6.747296</td>\n",
       "      <td>3.135494</td>\n",
       "      <td>2.803360</td>\n",
       "      <td>5.960232</td>\n",
       "      <td>2.947067</td>\n",
       "      <td>0</td>\n",
       "    </tr>\n",
       "  </tbody>\n",
       "</table>\n",
       "</div>"
      ],
      "text/plain": [
       "   const  age  card2_2  card2_3  card_2  card_3  card_4  ed  equipten  jobcat  \\\n",
       "0    1.0   20        0        0       0       1       0  15     126.1       1   \n",
       "1    1.0   22        0        0       1       0       0  17    1975.0       2   \n",
       "2    1.0   67        0        0       1       0       0  14       0.0       2   \n",
       "3    1.0   23        0        1       1       0       0  16       0.0       2   \n",
       "4    1.0   26        0        0       0       0       1  16       0.0       2   \n",
       "\n",
       "   lncardmon  lncardten  lnequipmon  lnequipten     lninc  lntollmon  \\\n",
       "0   2.656757   4.094345    3.384390    4.837075  3.433987   3.367296   \n",
       "1   2.772589   6.413459    4.004602    7.588324  2.708050   3.243230   \n",
       "2   3.135494   7.251345    3.600238    6.747296  3.555348   3.243230   \n",
       "3   3.044522   6.529419    3.600238    6.747296  2.995732   3.243230   \n",
       "4   2.847812   5.886104    3.600238    6.747296  3.135494   2.803360   \n",
       "\n",
       "   lntollten  lnwiremon  reason_2  \n",
       "0   5.081715   3.605001         0  \n",
       "1   6.584783   3.821004         0  \n",
       "2   6.584783   3.605001         1  \n",
       "3   6.584783   3.605001         0  \n",
       "4   5.960232   2.947067         0  "
      ]
     },
     "execution_count": 63,
     "metadata": {},
     "output_type": "execute_result"
    }
   ],
   "source": [
    "rf_df=rf_df[feature_columns]\n",
    "rf_df=sm.add_constant(rf_df)\n",
    "rf_df.head()"
   ]
  },
  {
   "cell_type": "code",
   "execution_count": 64,
   "metadata": {},
   "outputs": [
    {
     "data": {
      "text/html": [
       "<div>\n",
       "<style scoped>\n",
       "    .dataframe tbody tr th:only-of-type {\n",
       "        vertical-align: middle;\n",
       "    }\n",
       "\n",
       "    .dataframe tbody tr th {\n",
       "        vertical-align: top;\n",
       "    }\n",
       "\n",
       "    .dataframe thead th {\n",
       "        text-align: right;\n",
       "    }\n",
       "</style>\n",
       "<table border=\"1\" class=\"dataframe\">\n",
       "  <thead>\n",
       "    <tr style=\"text-align: right;\">\n",
       "      <th></th>\n",
       "      <th>pred_tot_spend</th>\n",
       "    </tr>\n",
       "  </thead>\n",
       "  <tbody>\n",
       "    <tr>\n",
       "      <th>0</th>\n",
       "      <td>369.263323</td>\n",
       "    </tr>\n",
       "    <tr>\n",
       "      <th>1</th>\n",
       "      <td>305.763057</td>\n",
       "    </tr>\n",
       "    <tr>\n",
       "      <th>2</th>\n",
       "      <td>490.503713</td>\n",
       "    </tr>\n",
       "    <tr>\n",
       "      <th>3</th>\n",
       "      <td>265.652052</td>\n",
       "    </tr>\n",
       "    <tr>\n",
       "      <th>4</th>\n",
       "      <td>343.823493</td>\n",
       "    </tr>\n",
       "  </tbody>\n",
       "</table>\n",
       "</div>"
      ],
      "text/plain": [
       "   pred_tot_spend\n",
       "0      369.263323\n",
       "1      305.763057\n",
       "2      490.503713\n",
       "3      265.652052\n",
       "4      343.823493"
      ]
     },
     "execution_count": 64,
     "metadata": {},
     "output_type": "execute_result"
    }
   ],
   "source": [
    "pred_tot_spend= pd.DataFrame(np.exp(lm.predict(rf_df)), columns= {\"pred_tot_spend\": 0})\n",
    "pred_tot_spend.head()"
   ]
  },
  {
   "cell_type": "code",
   "execution_count": 65,
   "metadata": {},
   "outputs": [],
   "source": [
    "credit_orig=pd.read_excel('Data Set.xlsx')"
   ]
  },
  {
   "cell_type": "code",
   "execution_count": 66,
   "metadata": {},
   "outputs": [
    {
     "data": {
      "text/html": [
       "<div>\n",
       "<style scoped>\n",
       "    .dataframe tbody tr th:only-of-type {\n",
       "        vertical-align: middle;\n",
       "    }\n",
       "\n",
       "    .dataframe tbody tr th {\n",
       "        vertical-align: top;\n",
       "    }\n",
       "\n",
       "    .dataframe thead th {\n",
       "        text-align: right;\n",
       "    }\n",
       "</style>\n",
       "<table border=\"1\" class=\"dataframe\">\n",
       "  <thead>\n",
       "    <tr style=\"text-align: right;\">\n",
       "      <th></th>\n",
       "      <th>custid</th>\n",
       "      <th>region</th>\n",
       "      <th>townsize</th>\n",
       "      <th>gender</th>\n",
       "      <th>age</th>\n",
       "      <th>agecat</th>\n",
       "      <th>birthmonth</th>\n",
       "      <th>ed</th>\n",
       "      <th>edcat</th>\n",
       "      <th>jobcat</th>\n",
       "      <th>...</th>\n",
       "      <th>ownpda</th>\n",
       "      <th>ownpc</th>\n",
       "      <th>ownipod</th>\n",
       "      <th>owngame</th>\n",
       "      <th>ownfax</th>\n",
       "      <th>news</th>\n",
       "      <th>response_01</th>\n",
       "      <th>response_02</th>\n",
       "      <th>response_03</th>\n",
       "      <th>pred_tot_spend</th>\n",
       "    </tr>\n",
       "  </thead>\n",
       "  <tbody>\n",
       "    <tr>\n",
       "      <th>0</th>\n",
       "      <td>3964-QJWTRG-NPN</td>\n",
       "      <td>1</td>\n",
       "      <td>2.0</td>\n",
       "      <td>1</td>\n",
       "      <td>20</td>\n",
       "      <td>2</td>\n",
       "      <td>September</td>\n",
       "      <td>15</td>\n",
       "      <td>3</td>\n",
       "      <td>1</td>\n",
       "      <td>...</td>\n",
       "      <td>0</td>\n",
       "      <td>0</td>\n",
       "      <td>1</td>\n",
       "      <td>1</td>\n",
       "      <td>0</td>\n",
       "      <td>0</td>\n",
       "      <td>0</td>\n",
       "      <td>1</td>\n",
       "      <td>0</td>\n",
       "      <td>369.263323</td>\n",
       "    </tr>\n",
       "    <tr>\n",
       "      <th>1</th>\n",
       "      <td>0648-AIPJSP-UVM</td>\n",
       "      <td>5</td>\n",
       "      <td>5.0</td>\n",
       "      <td>0</td>\n",
       "      <td>22</td>\n",
       "      <td>2</td>\n",
       "      <td>May</td>\n",
       "      <td>17</td>\n",
       "      <td>4</td>\n",
       "      <td>2</td>\n",
       "      <td>...</td>\n",
       "      <td>1</td>\n",
       "      <td>1</td>\n",
       "      <td>1</td>\n",
       "      <td>1</td>\n",
       "      <td>1</td>\n",
       "      <td>1</td>\n",
       "      <td>0</td>\n",
       "      <td>0</td>\n",
       "      <td>0</td>\n",
       "      <td>305.763057</td>\n",
       "    </tr>\n",
       "    <tr>\n",
       "      <th>2</th>\n",
       "      <td>5195-TLUDJE-HVO</td>\n",
       "      <td>3</td>\n",
       "      <td>4.0</td>\n",
       "      <td>1</td>\n",
       "      <td>67</td>\n",
       "      <td>6</td>\n",
       "      <td>June</td>\n",
       "      <td>14</td>\n",
       "      <td>2</td>\n",
       "      <td>2</td>\n",
       "      <td>...</td>\n",
       "      <td>0</td>\n",
       "      <td>0</td>\n",
       "      <td>0</td>\n",
       "      <td>0</td>\n",
       "      <td>0</td>\n",
       "      <td>1</td>\n",
       "      <td>0</td>\n",
       "      <td>0</td>\n",
       "      <td>0</td>\n",
       "      <td>490.503713</td>\n",
       "    </tr>\n",
       "    <tr>\n",
       "      <th>3</th>\n",
       "      <td>4459-VLPQUH-3OL</td>\n",
       "      <td>4</td>\n",
       "      <td>3.0</td>\n",
       "      <td>0</td>\n",
       "      <td>23</td>\n",
       "      <td>2</td>\n",
       "      <td>May</td>\n",
       "      <td>16</td>\n",
       "      <td>3</td>\n",
       "      <td>2</td>\n",
       "      <td>...</td>\n",
       "      <td>0</td>\n",
       "      <td>1</td>\n",
       "      <td>1</td>\n",
       "      <td>1</td>\n",
       "      <td>0</td>\n",
       "      <td>1</td>\n",
       "      <td>1</td>\n",
       "      <td>0</td>\n",
       "      <td>0</td>\n",
       "      <td>265.652052</td>\n",
       "    </tr>\n",
       "    <tr>\n",
       "      <th>4</th>\n",
       "      <td>8158-SMTQFB-CNO</td>\n",
       "      <td>2</td>\n",
       "      <td>2.0</td>\n",
       "      <td>0</td>\n",
       "      <td>26</td>\n",
       "      <td>3</td>\n",
       "      <td>July</td>\n",
       "      <td>16</td>\n",
       "      <td>3</td>\n",
       "      <td>2</td>\n",
       "      <td>...</td>\n",
       "      <td>0</td>\n",
       "      <td>1</td>\n",
       "      <td>0</td>\n",
       "      <td>1</td>\n",
       "      <td>0</td>\n",
       "      <td>0</td>\n",
       "      <td>0</td>\n",
       "      <td>1</td>\n",
       "      <td>0</td>\n",
       "      <td>343.823493</td>\n",
       "    </tr>\n",
       "  </tbody>\n",
       "</table>\n",
       "<p>5 rows × 131 columns</p>\n",
       "</div>"
      ],
      "text/plain": [
       "            custid  region  townsize  gender  age  agecat birthmonth  ed  \\\n",
       "0  3964-QJWTRG-NPN       1       2.0       1   20       2  September  15   \n",
       "1  0648-AIPJSP-UVM       5       5.0       0   22       2        May  17   \n",
       "2  5195-TLUDJE-HVO       3       4.0       1   67       6       June  14   \n",
       "3  4459-VLPQUH-3OL       4       3.0       0   23       2        May  16   \n",
       "4  8158-SMTQFB-CNO       2       2.0       0   26       3       July  16   \n",
       "\n",
       "   edcat  jobcat  ...  ownpda  ownpc  ownipod  owngame  ownfax  news  \\\n",
       "0      3       1  ...       0      0        1        1       0     0   \n",
       "1      4       2  ...       1      1        1        1       1     1   \n",
       "2      2       2  ...       0      0        0        0       0     1   \n",
       "3      3       2  ...       0      1        1        1       0     1   \n",
       "4      3       2  ...       0      1        0        1       0     0   \n",
       "\n",
       "   response_01  response_02  response_03  pred_tot_spend  \n",
       "0            0            1            0      369.263323  \n",
       "1            0            0            0      305.763057  \n",
       "2            0            0            0      490.503713  \n",
       "3            1            0            0      265.652052  \n",
       "4            0            1            0      343.823493  \n",
       "\n",
       "[5 rows x 131 columns]"
      ]
     },
     "execution_count": 66,
     "metadata": {},
     "output_type": "execute_result"
    }
   ],
   "source": [
    "#Adding final prediction column to original test file\n",
    "  \n",
    "Submission = pd.concat([credit_orig, pred_tot_spend], axis=1)\n",
    "\n",
    "Submission.head()"
   ]
  },
  {
   "cell_type": "code",
   "execution_count": 67,
   "metadata": {},
   "outputs": [],
   "source": [
    "Submission.to_excel(writer, \"Predictions\", index=True)\n",
    "Submission.to_csv(\"Predictions\")"
   ]
  },
  {
   "cell_type": "markdown",
   "metadata": {},
   "source": [
    "### Buisness Validation Through Decile Ananlysis"
   ]
  },
  {
   "cell_type": "code",
   "execution_count": 68,
   "metadata": {},
   "outputs": [],
   "source": [
    "train=pd.concat([train_X,train_y],axis=1)\n",
    "test=pd.concat([test_X,test_y],axis=1)\n",
    "train=sm.add_constant(train)\n",
    "train['pred_tot_spend'] = lm.predict(train_X)\n",
    "test=sm.add_constant(test)\n",
    "test['pred_tot_spend'] = lm.predict(test_X)"
   ]
  },
  {
   "cell_type": "code",
   "execution_count": 69,
   "metadata": {},
   "outputs": [
    {
     "data": {
      "text/html": [
       "<div>\n",
       "<style scoped>\n",
       "    .dataframe tbody tr th:only-of-type {\n",
       "        vertical-align: middle;\n",
       "    }\n",
       "\n",
       "    .dataframe tbody tr th {\n",
       "        vertical-align: top;\n",
       "    }\n",
       "\n",
       "    .dataframe thead th {\n",
       "        text-align: right;\n",
       "    }\n",
       "</style>\n",
       "<table border=\"1\" class=\"dataframe\">\n",
       "  <thead>\n",
       "    <tr style=\"text-align: right;\">\n",
       "      <th></th>\n",
       "      <th>Deciles</th>\n",
       "      <th>pred_tot_spend</th>\n",
       "      <th>total_spent_ln</th>\n",
       "    </tr>\n",
       "  </thead>\n",
       "  <tbody>\n",
       "    <tr>\n",
       "      <th>0</th>\n",
       "      <td>9</td>\n",
       "      <td>6.673261</td>\n",
       "      <td>6.704470</td>\n",
       "    </tr>\n",
       "    <tr>\n",
       "      <th>1</th>\n",
       "      <td>8</td>\n",
       "      <td>6.380307</td>\n",
       "      <td>6.396051</td>\n",
       "    </tr>\n",
       "    <tr>\n",
       "      <th>2</th>\n",
       "      <td>7</td>\n",
       "      <td>6.219039</td>\n",
       "      <td>6.174363</td>\n",
       "    </tr>\n",
       "    <tr>\n",
       "      <th>3</th>\n",
       "      <td>6</td>\n",
       "      <td>6.109891</td>\n",
       "      <td>6.071862</td>\n",
       "    </tr>\n",
       "    <tr>\n",
       "      <th>4</th>\n",
       "      <td>5</td>\n",
       "      <td>6.013410</td>\n",
       "      <td>5.980742</td>\n",
       "    </tr>\n",
       "    <tr>\n",
       "      <th>5</th>\n",
       "      <td>4</td>\n",
       "      <td>5.918906</td>\n",
       "      <td>5.987854</td>\n",
       "    </tr>\n",
       "    <tr>\n",
       "      <th>6</th>\n",
       "      <td>3</td>\n",
       "      <td>5.829904</td>\n",
       "      <td>5.815685</td>\n",
       "    </tr>\n",
       "    <tr>\n",
       "      <th>7</th>\n",
       "      <td>2</td>\n",
       "      <td>5.739190</td>\n",
       "      <td>5.719802</td>\n",
       "    </tr>\n",
       "    <tr>\n",
       "      <th>8</th>\n",
       "      <td>1</td>\n",
       "      <td>5.633766</td>\n",
       "      <td>5.682193</td>\n",
       "    </tr>\n",
       "    <tr>\n",
       "      <th>9</th>\n",
       "      <td>0</td>\n",
       "      <td>5.420901</td>\n",
       "      <td>5.405553</td>\n",
       "    </tr>\n",
       "  </tbody>\n",
       "</table>\n",
       "</div>"
      ],
      "text/plain": [
       "   Deciles  pred_tot_spend  total_spent_ln\n",
       "0        9        6.673261        6.704470\n",
       "1        8        6.380307        6.396051\n",
       "2        7        6.219039        6.174363\n",
       "3        6        6.109891        6.071862\n",
       "4        5        6.013410        5.980742\n",
       "5        4        5.918906        5.987854\n",
       "6        3        5.829904        5.815685\n",
       "7        2        5.739190        5.719802\n",
       "8        1        5.633766        5.682193\n",
       "9        0        5.420901        5.405553"
      ]
     },
     "execution_count": 69,
     "metadata": {},
     "output_type": "execute_result"
    }
   ],
   "source": [
    "# create the 10 groups in the data\n",
    "train['Deciles'] = pd.qcut(train['pred_tot_spend'], 10, labels = False)\n",
    "\n",
    "# Decile Analysis for train data\n",
    "Predicted_avg = train[['Deciles', 'pred_tot_spend']].groupby(train.Deciles).mean().sort_index(ascending = False)['pred_tot_spend']\n",
    "Actual_avg = train[['Deciles', 'total_spent_ln']].groupby(train.Deciles).mean().sort_index(ascending = False)['total_spent_ln']\n",
    "Decile_analysis_train= pd.concat([Predicted_avg, Actual_avg], axis = 1).reset_index()\n",
    "Decile_analysis_train.to_csv('Decile_analysis_train')\n",
    "Decile_analysis_train.to_excel(writer, 'Decile_train', index=True)\n",
    "Decile_analysis_train"
   ]
  },
  {
   "cell_type": "code",
   "execution_count": 70,
   "metadata": {},
   "outputs": [
    {
     "data": {
      "text/html": [
       "<div>\n",
       "<style scoped>\n",
       "    .dataframe tbody tr th:only-of-type {\n",
       "        vertical-align: middle;\n",
       "    }\n",
       "\n",
       "    .dataframe tbody tr th {\n",
       "        vertical-align: top;\n",
       "    }\n",
       "\n",
       "    .dataframe thead th {\n",
       "        text-align: right;\n",
       "    }\n",
       "</style>\n",
       "<table border=\"1\" class=\"dataframe\">\n",
       "  <thead>\n",
       "    <tr style=\"text-align: right;\">\n",
       "      <th></th>\n",
       "      <th>Deciles</th>\n",
       "      <th>pred_tot_spend</th>\n",
       "      <th>total_spent_ln</th>\n",
       "    </tr>\n",
       "  </thead>\n",
       "  <tbody>\n",
       "    <tr>\n",
       "      <th>0</th>\n",
       "      <td>9</td>\n",
       "      <td>6.655165</td>\n",
       "      <td>6.593805</td>\n",
       "    </tr>\n",
       "    <tr>\n",
       "      <th>1</th>\n",
       "      <td>8</td>\n",
       "      <td>6.373859</td>\n",
       "      <td>6.387136</td>\n",
       "    </tr>\n",
       "    <tr>\n",
       "      <th>2</th>\n",
       "      <td>7</td>\n",
       "      <td>6.238175</td>\n",
       "      <td>6.235222</td>\n",
       "    </tr>\n",
       "    <tr>\n",
       "      <th>3</th>\n",
       "      <td>6</td>\n",
       "      <td>6.142732</td>\n",
       "      <td>6.156089</td>\n",
       "    </tr>\n",
       "    <tr>\n",
       "      <th>4</th>\n",
       "      <td>5</td>\n",
       "      <td>6.056222</td>\n",
       "      <td>6.090811</td>\n",
       "    </tr>\n",
       "    <tr>\n",
       "      <th>5</th>\n",
       "      <td>4</td>\n",
       "      <td>5.967405</td>\n",
       "      <td>5.960850</td>\n",
       "    </tr>\n",
       "    <tr>\n",
       "      <th>6</th>\n",
       "      <td>3</td>\n",
       "      <td>5.877195</td>\n",
       "      <td>5.884718</td>\n",
       "    </tr>\n",
       "    <tr>\n",
       "      <th>7</th>\n",
       "      <td>2</td>\n",
       "      <td>5.780160</td>\n",
       "      <td>5.816949</td>\n",
       "    </tr>\n",
       "    <tr>\n",
       "      <th>8</th>\n",
       "      <td>1</td>\n",
       "      <td>5.660410</td>\n",
       "      <td>5.742738</td>\n",
       "    </tr>\n",
       "    <tr>\n",
       "      <th>9</th>\n",
       "      <td>0</td>\n",
       "      <td>5.440238</td>\n",
       "      <td>5.505027</td>\n",
       "    </tr>\n",
       "  </tbody>\n",
       "</table>\n",
       "</div>"
      ],
      "text/plain": [
       "   Deciles  pred_tot_spend  total_spent_ln\n",
       "0        9        6.655165        6.593805\n",
       "1        8        6.373859        6.387136\n",
       "2        7        6.238175        6.235222\n",
       "3        6        6.142732        6.156089\n",
       "4        5        6.056222        6.090811\n",
       "5        4        5.967405        5.960850\n",
       "6        3        5.877195        5.884718\n",
       "7        2        5.780160        5.816949\n",
       "8        1        5.660410        5.742738\n",
       "9        0        5.440238        5.505027"
      ]
     },
     "execution_count": 70,
     "metadata": {},
     "output_type": "execute_result"
    }
   ],
   "source": [
    "# Decile Analysis for test data\n",
    "test['Deciles'] = pd.qcut(test['pred_tot_spend'], 10, labels = False)\n",
    "Predicted_avg = test[['Deciles', 'pred_tot_spend']].groupby(test.Deciles).mean().sort_index(ascending = False)['pred_tot_spend']\n",
    "Actual_avg = test[['Deciles', 'total_spent_ln']].groupby(test.Deciles).mean().sort_index(ascending = False)['total_spent_ln']\n",
    "Decile_analysis_test= pd.concat([Predicted_avg, Actual_avg], axis = 1).reset_index()\n",
    "Decile_analysis_test.to_csv('Decile_analysis_test')\n",
    "Decile_analysis_test.to_excel(writer,'Decile_analysis_test', index=True)\n",
    "Decile_analysis_test"
   ]
  },
  {
   "cell_type": "code",
   "execution_count": 71,
   "metadata": {},
   "outputs": [],
   "source": [
    "writer.save()"
   ]
  },
  {
   "cell_type": "markdown",
   "metadata": {},
   "source": [
    "<big> <big> <strong>              ------------------------------** The END **---------------------------------"
   ]
  },
  {
   "cell_type": "code",
   "execution_count": 72,
   "metadata": {},
   "outputs": [
    {
     "data": {
      "text/plain": [
       "{'age',\n",
       " 'card2_2',\n",
       " 'card2_3',\n",
       " 'card_2',\n",
       " 'card_3',\n",
       " 'card_4',\n",
       " 'const',\n",
       " 'ed',\n",
       " 'equipten',\n",
       " 'jobcat',\n",
       " 'lncardmon',\n",
       " 'lncardten',\n",
       " 'lnequipmon',\n",
       " 'lnequipten',\n",
       " 'lninc',\n",
       " 'lntollmon',\n",
       " 'lntollten',\n",
       " 'lnwiremon',\n",
       " 'reason_2'}"
      ]
     },
     "execution_count": 72,
     "metadata": {},
     "output_type": "execute_result"
    }
   ],
   "source": [
    "set(train_X.columns)"
   ]
  }
 ],
 "metadata": {
  "kernelspec": {
   "display_name": "Python 3",
   "language": "python",
   "name": "python3"
  },
  "language_info": {
   "codemirror_mode": {
    "name": "ipython",
    "version": 3
   },
   "file_extension": ".py",
   "mimetype": "text/x-python",
   "name": "python",
   "nbconvert_exporter": "python",
   "pygments_lexer": "ipython3",
   "version": "3.8.8"
  }
 },
 "nbformat": 4,
 "nbformat_minor": 2
}
