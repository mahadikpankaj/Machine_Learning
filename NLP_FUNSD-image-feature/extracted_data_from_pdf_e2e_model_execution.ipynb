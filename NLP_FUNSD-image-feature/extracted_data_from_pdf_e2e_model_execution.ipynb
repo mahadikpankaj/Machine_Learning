{
 "cells": [
  {
   "cell_type": "markdown",
   "metadata": {},
   "source": [
    "### Libraries needs to be installed. Uncomment and execute as needed."
   ]
  },
  {
   "cell_type": "code",
   "execution_count": 1,
   "metadata": {},
   "outputs": [],
   "source": [
    "#!python -m pip install --upgrade pip"
   ]
  },
  {
   "cell_type": "code",
   "execution_count": 2,
   "metadata": {},
   "outputs": [],
   "source": [
    "#!python -m pip install datasets"
   ]
  },
  {
   "cell_type": "code",
   "execution_count": 3,
   "metadata": {},
   "outputs": [],
   "source": [
    "#!python -m pip install pytesseract"
   ]
  },
  {
   "cell_type": "code",
   "execution_count": 4,
   "metadata": {},
   "outputs": [],
   "source": [
    "#!conda install pytesseract"
   ]
  },
  {
   "cell_type": "code",
   "execution_count": 5,
   "metadata": {},
   "outputs": [],
   "source": [
    "#!python -m pip install opencv-contrib-python"
   ]
  },
  {
   "cell_type": "code",
   "execution_count": 6,
   "metadata": {},
   "outputs": [],
   "source": [
    "#!python -m pip install pdf2image"
   ]
  },
  {
   "cell_type": "markdown",
   "metadata": {},
   "source": [
    " ###  As the end to end solution needs PDF as input, convert the image files to PDF format Its only one time task"
   ]
  },
  {
   "cell_type": "markdown",
   "metadata": {},
   "source": [
    "### code to convert images to pdf"
   ]
  },
  {
   "cell_type": "raw",
   "metadata": {},
   "source": [
    "import os\n",
    "from PIL import Image\n",
    "\n",
    "directory = 'D:/Projects/NLP_BNY/dataset'\n",
    " \n",
    "for root, dirs, files in os.walk(directory):\n",
    "    for filename in files:\n",
    "        if filename.endswith('.png'):\n",
    "            filename=os.path.join(root, filename).replace('\\\\', '/')\n",
    "            filename_pdf=filename[0:filename.rfind('.')] + '.pdf'\n",
    "            image_1 = Image.open(filename)\n",
    "            im_1 = image_1.convert('RGB')\n",
    "            im_1.save(filename_pdf)"
   ]
  },
  {
   "cell_type": "markdown",
   "metadata": {},
   "source": [
    "### code to scan and extract testing data in dataframe"
   ]
  },
  {
   "cell_type": "raw",
   "metadata": {},
   "source": [
    "from pdf2image import convert_from_path\n",
    "import pytesseract\n",
    "import cv2\n",
    "\n",
    "df_data_all = pd.DataFrame()\n",
    "\n",
    "pdf_directory_training = 'D:/Projects/NLP_BNY/dataset/training_data/pdfs'\n",
    "for root, dirs, files in os.walk(pdf_directory_training):\n",
    "    for filename in files:\n",
    "        filename=os.path.join(root, filename).replace('\\\\', '/')\n",
    "        images = convert_from_path(filename)\n",
    "        for image in images:\n",
    "            df_data = pytesseract.image_to_data(image, lang='eng', output_type=pytesseract.Output.DATAFRAME)\n",
    "            df_data_all = pd.concat([df_data_all, df_data])\n",
    "            print(df_data_all.shape)\n",
    "            \n",
    "df_data_all_train = df_data_all.copy(deep=True)         \n",
    "\n",
    "df_data_all_train = df_data_all_train.dropna(subset=['text'])\n",
    "\n",
    "df_data_all_train.to_excel('D:/Projects/NLP_BNY/dataset/train.xls', index=False)"
   ]
  },
  {
   "cell_type": "markdown",
   "metadata": {},
   "source": [
    "### code to scan and extract testing data in dataframe"
   ]
  },
  {
   "cell_type": "raw",
   "metadata": {},
   "source": [
    "from pdf2image import convert_from_path\n",
    "import pytesseract\n",
    "import cv2\n",
    "\n",
    "df_data_all = pd.DataFrame()\n",
    "\n",
    "pdf_directory_testing = 'D:/Projects/NLP_BNY/dataset/testing_data/pdfs'\n",
    "for root, dirs, files in os.walk(pdf_directory_testing):\n",
    "    for filename in files:\n",
    "        filename=os.path.join(root, filename).replace('\\\\', '/')\n",
    "        images = convert_from_path(filename)\n",
    "        for image in images:\n",
    "            df_data = pytesseract.image_to_data(image, lang='eng', output_type=pytesseract.Output.DATAFRAME)\n",
    "            df_data_all = pd.concat([df_data_all, df_data])\n",
    "            print(df_data_all.shape)\n",
    "            \n",
    "df_data_all_test = df_data_all.copy(deep=True)     \n",
    "df_data_all_test = df_data_all_test.dropna(subset=['text'])\n",
    "df_data_all_test.to_excel('D:/Projects/NLP_BNY/dataset/test.xls', index=False)\n"
   ]
  },
  {
   "cell_type": "markdown",
   "metadata": {},
   "source": [
    "### Import custom library that contains functions to process the data"
   ]
  },
  {
   "cell_type": "code",
   "execution_count": 7,
   "metadata": {},
   "outputs": [],
   "source": [
    "import pankaj_library as p\n"
   ]
  },
  {
   "cell_type": "markdown",
   "metadata": {},
   "source": [
    "### import necessary libraries"
   ]
  },
  {
   "cell_type": "code",
   "execution_count": 8,
   "metadata": {},
   "outputs": [
    {
     "name": "stderr",
     "output_type": "stream",
     "text": [
      "<ipython-input-8-922d2289a39c>:10: FutureWarning: Passing a negative integer is deprecated in version 1.0 and will not be supported in future version. Instead, use None to not limit the column width.\n",
      "  pd.set_option('max_colwidth', -1)\n"
     ]
    }
   ],
   "source": [
    "import pandas as pd\n",
    "\n",
    "from sklearn.ensemble import RandomForestClassifier\n",
    "from sklearn.svm import SVC\n",
    "from sklearn.tree import DecisionTreeClassifier\n",
    "from sklearn.naive_bayes import GaussianNB\n",
    "\n",
    "from sklearn.model_selection import train_test_split  \n",
    "\n",
    "pd.set_option('max_colwidth', -1)"
   ]
  },
  {
   "cell_type": "markdown",
   "metadata": {},
   "source": [
    "### define mapping of word to type (Header, Question, Answer or Other)"
   ]
  },
  {
   "cell_type": "code",
   "execution_count": 9,
   "metadata": {},
   "outputs": [
    {
     "data": {
      "text/plain": [
       "{0: 'Other', 1: 'Header', 2: 'Question', 3: 'Answer'}"
      ]
     },
     "execution_count": 9,
     "metadata": {},
     "output_type": "execute_result"
    }
   ],
   "source": [
    "word_type_to_numeric = {'Other':0, 'Header':1, 'Question':2, 'Answer':3}\n",
    "word_type_from_numeric = {val:key for key,val in word_type_to_numeric.items()}\n",
    "word_type_from_numeric\n"
   ]
  },
  {
   "cell_type": "markdown",
   "metadata": {},
   "source": [
    "### Extraction data from PDF files takes long time (almost 1 hour), hence I extracted the data once and stored the data in the train.xls and test.xls. Provided the files with this notebook.\n",
    "\n",
    "### Please change the paths below to use the files.\n",
    "\n",
    "### If you want to invoke the full extraction, please remove or comment out the two lines, and the data will get extracted form pdf files"
   ]
  },
  {
   "cell_type": "code",
   "execution_count": 10,
   "metadata": {},
   "outputs": [],
   "source": [
    "df_data_all_train = pd.read_excel('D:/Projects/NLP_BNY/dataset/train.xls')\n",
    "df_data_all_test = pd.read_excel('D:/Projects/NLP_BNY/dataset/test.xls')"
   ]
  },
  {
   "cell_type": "code",
   "execution_count": 11,
   "metadata": {},
   "outputs": [],
   "source": [
    "from pdf2image import convert_from_path\n",
    "import pytesseract\n",
    "import cv2\n",
    "\n",
    "def extract_data(pdf_directory):\n",
    "    df_data_all = pd.DataFrame()\n",
    "    for root, dirs, files in os.walk(pdf_directory):\n",
    "        for filename in files:\n",
    "            filename=os.path.join(root, filename).replace('\\\\', '/')\n",
    "            images = convert_from_path(filename)\n",
    "            for image in images:\n",
    "                df_data = pytesseract.image_to_data(image, lang='eng', output_type=pytesseract.Output.DATAFRAME)\n",
    "                df_data_all = pd.concat([df_data_all, df_data])\n",
    "                print(df_data_all.shape)\n",
    "    df_data_all = df_data_all.dropna(subset=['text'])\n",
    "    return df_data_all\n",
    "            \n"
   ]
  },
  {
   "cell_type": "markdown",
   "metadata": {},
   "source": [
    "### If you wish to execute extraction from PDF files (instead of using the train.xls and test.xls of extracted data), please update the folder path of pdf files for training and testing: train_directory and test_directory in below code"
   ]
  },
  {
   "cell_type": "code",
   "execution_count": 12,
   "metadata": {},
   "outputs": [
    {
     "name": "stdout",
     "output_type": "stream",
     "text": [
      "training data already loaded\n",
      "testing data already loaded\n"
     ]
    }
   ],
   "source": [
    "if 'df_data_all_train' not in globals():\n",
    "    train_directory = 'D:/Projects/NLP_BNY/dataset/training_data/pdfs'\n",
    "    print('extracting data from pdf files in directory: ' + train_directory)\n",
    "    df_data_all_train = extract_data(train_directory)\n",
    "else:\n",
    "    print('training data already loaded')\n",
    "    \n",
    "    \n",
    "if 'df_data_all_test' not in globals():\n",
    "    test_directory = 'D:/Projects/NLP_BNY/dataset/testing_data/pdfs'\n",
    "    print('extracting data from pdf files in directory: ' + test_directory)\n",
    "    df_data_all_test = extract_data(test_directory)\n",
    "else:\n",
    "    print('testing data already loaded')\n",
    "\n",
    "    "
   ]
  },
  {
   "cell_type": "markdown",
   "metadata": {},
   "source": [
    "### transform the loaded data into the dataframe with expected column names"
   ]
  },
  {
   "cell_type": "code",
   "execution_count": 13,
   "metadata": {},
   "outputs": [],
   "source": [
    "df_data_all_train = df_data_all_train.dropna(subset=['text'])\n",
    "df_train = df_data_all_train.loc[:, ['text']]\n",
    "df_train.rename(columns={'text':'word'}, inplace=True)\n",
    "df_train.loc[:, ['x1']] = df_data_all_train['left']\n",
    "df_train.loc[:, ['y1']] = df_data_all_train['top']\n",
    "df_train.loc[:, ['x2']] = df_data_all_train['left'] + df_data_all_train['width']\n",
    "df_train.loc[:, ['y2']] = df_data_all_train['top'] + df_data_all_train['height']"
   ]
  },
  {
   "cell_type": "code",
   "execution_count": 14,
   "metadata": {},
   "outputs": [
    {
     "data": {
      "text/html": [
       "<div>\n",
       "<style scoped>\n",
       "    .dataframe tbody tr th:only-of-type {\n",
       "        vertical-align: middle;\n",
       "    }\n",
       "\n",
       "    .dataframe tbody tr th {\n",
       "        vertical-align: top;\n",
       "    }\n",
       "\n",
       "    .dataframe thead th {\n",
       "        text-align: right;\n",
       "    }\n",
       "</style>\n",
       "<table border=\"1\" class=\"dataframe\">\n",
       "  <thead>\n",
       "    <tr style=\"text-align: right;\">\n",
       "      <th></th>\n",
       "      <th>word</th>\n",
       "      <th>x1</th>\n",
       "      <th>y1</th>\n",
       "      <th>x2</th>\n",
       "      <th>y2</th>\n",
       "    </tr>\n",
       "  </thead>\n",
       "  <tbody>\n",
       "    <tr>\n",
       "      <th>0</th>\n",
       "      <td></td>\n",
       "      <td>0</td>\n",
       "      <td>0</td>\n",
       "      <td>1988</td>\n",
       "      <td>552</td>\n",
       "    </tr>\n",
       "    <tr>\n",
       "      <th>1</th>\n",
       "      <td>R&amp;D</td>\n",
       "      <td>718</td>\n",
       "      <td>570</td>\n",
       "      <td>775</td>\n",
       "      <td>594</td>\n",
       "    </tr>\n",
       "    <tr>\n",
       "      <th>2</th>\n",
       "      <td>QUALITY</td>\n",
       "      <td>796</td>\n",
       "      <td>566</td>\n",
       "      <td>931</td>\n",
       "      <td>597</td>\n",
       "    </tr>\n",
       "    <tr>\n",
       "      <th>3</th>\n",
       "      <td>IMPROVEMENT</td>\n",
       "      <td>953</td>\n",
       "      <td>563</td>\n",
       "      <td>1164</td>\n",
       "      <td>589</td>\n",
       "    </tr>\n",
       "    <tr>\n",
       "      <th>4</th>\n",
       "      <td>SUGGESTION/SCLUTION</td>\n",
       "      <td>710</td>\n",
       "      <td>602</td>\n",
       "      <td>1077</td>\n",
       "      <td>636</td>\n",
       "    </tr>\n",
       "  </tbody>\n",
       "</table>\n",
       "</div>"
      ],
      "text/plain": [
       "                  word   x1   y1    x2   y2\n",
       "0                       0    0    1988  552\n",
       "1  R&D                  718  570  775   594\n",
       "2  QUALITY              796  566  931   597\n",
       "3  IMPROVEMENT          953  563  1164  589\n",
       "4  SUGGESTION/SCLUTION  710  602  1077  636"
      ]
     },
     "execution_count": 14,
     "metadata": {},
     "output_type": "execute_result"
    }
   ],
   "source": [
    "df_train.head()"
   ]
  },
  {
   "cell_type": "markdown",
   "metadata": {},
   "source": [
    "###  Preprocess the data and generate the ground truth labels"
   ]
  },
  {
   "cell_type": "code",
   "execution_count": 15,
   "metadata": {},
   "outputs": [],
   "source": [
    "df_train = p.pre_prcess(df_train)"
   ]
  },
  {
   "cell_type": "code",
   "execution_count": 16,
   "metadata": {},
   "outputs": [
    {
     "data": {
      "text/html": [
       "<div>\n",
       "<style scoped>\n",
       "    .dataframe tbody tr th:only-of-type {\n",
       "        vertical-align: middle;\n",
       "    }\n",
       "\n",
       "    .dataframe tbody tr th {\n",
       "        vertical-align: top;\n",
       "    }\n",
       "\n",
       "    .dataframe thead th {\n",
       "        text-align: right;\n",
       "    }\n",
       "</style>\n",
       "<table border=\"1\" class=\"dataframe\">\n",
       "  <thead>\n",
       "    <tr style=\"text-align: right;\">\n",
       "      <th></th>\n",
       "      <th>word</th>\n",
       "      <th>x1</th>\n",
       "      <th>y1</th>\n",
       "      <th>x2</th>\n",
       "      <th>y2</th>\n",
       "      <th>has_colon</th>\n",
       "      <th>char_case</th>\n",
       "      <th>ner_calc</th>\n",
       "    </tr>\n",
       "  </thead>\n",
       "  <tbody>\n",
       "    <tr>\n",
       "      <th>0</th>\n",
       "      <td></td>\n",
       "      <td>0</td>\n",
       "      <td>0</td>\n",
       "      <td>1988</td>\n",
       "      <td>552</td>\n",
       "      <td>0</td>\n",
       "      <td>0</td>\n",
       "      <td>3</td>\n",
       "    </tr>\n",
       "    <tr>\n",
       "      <th>1</th>\n",
       "      <td>r&amp;d</td>\n",
       "      <td>718</td>\n",
       "      <td>570</td>\n",
       "      <td>775</td>\n",
       "      <td>594</td>\n",
       "      <td>0</td>\n",
       "      <td>2</td>\n",
       "      <td>1</td>\n",
       "    </tr>\n",
       "    <tr>\n",
       "      <th>2</th>\n",
       "      <td>quality</td>\n",
       "      <td>796</td>\n",
       "      <td>566</td>\n",
       "      <td>931</td>\n",
       "      <td>597</td>\n",
       "      <td>0</td>\n",
       "      <td>2</td>\n",
       "      <td>1</td>\n",
       "    </tr>\n",
       "    <tr>\n",
       "      <th>3</th>\n",
       "      <td>improvement</td>\n",
       "      <td>953</td>\n",
       "      <td>563</td>\n",
       "      <td>1164</td>\n",
       "      <td>589</td>\n",
       "      <td>0</td>\n",
       "      <td>2</td>\n",
       "      <td>1</td>\n",
       "    </tr>\n",
       "    <tr>\n",
       "      <th>4</th>\n",
       "      <td>suggestion/sclution</td>\n",
       "      <td>710</td>\n",
       "      <td>602</td>\n",
       "      <td>1077</td>\n",
       "      <td>636</td>\n",
       "      <td>1</td>\n",
       "      <td>2</td>\n",
       "      <td>2</td>\n",
       "    </tr>\n",
       "  </tbody>\n",
       "</table>\n",
       "</div>"
      ],
      "text/plain": [
       "                  word   x1   y1    x2   y2  has_colon  char_case  ner_calc\n",
       "0                       0    0    1988  552  0          0          3       \n",
       "1  r&d                  718  570  775   594  0          2          1       \n",
       "2  quality              796  566  931   597  0          2          1       \n",
       "3  improvement          953  563  1164  589  0          2          1       \n",
       "4  suggestion/sclution  710  602  1077  636  1          2          2       "
      ]
     },
     "execution_count": 16,
     "metadata": {},
     "output_type": "execute_result"
    }
   ],
   "source": [
    "df_train.head()"
   ]
  },
  {
   "cell_type": "code",
   "execution_count": 17,
   "metadata": {},
   "outputs": [],
   "source": [
    "y_column = 'ner_calc'\n",
    "X_columns = ['word', 'x1', 'y1', 'x2', 'y2', 'has_colon', 'char_case']\n",
    "\n",
    "X = df_train[X_columns]\n",
    "y = df_train[y_column]\n"
   ]
  },
  {
   "cell_type": "markdown",
   "metadata": {},
   "source": [
    "### Split train data into train set and validation set"
   ]
  },
  {
   "cell_type": "code",
   "execution_count": 18,
   "metadata": {},
   "outputs": [],
   "source": [
    "X_train, X_val, y_train, y_val= train_test_split(X, y, test_size= 0.01, random_state=0)  "
   ]
  },
  {
   "cell_type": "markdown",
   "metadata": {},
   "source": [
    "### add a default entry of 'other' to map non-existing words, to avoid failure in one hot encoding"
   ]
  },
  {
   "cell_type": "code",
   "execution_count": 19,
   "metadata": {},
   "outputs": [
    {
     "data": {
      "text/html": [
       "<div>\n",
       "<style scoped>\n",
       "    .dataframe tbody tr th:only-of-type {\n",
       "        vertical-align: middle;\n",
       "    }\n",
       "\n",
       "    .dataframe tbody tr th {\n",
       "        vertical-align: top;\n",
       "    }\n",
       "\n",
       "    .dataframe thead th {\n",
       "        text-align: right;\n",
       "    }\n",
       "</style>\n",
       "<table border=\"1\" class=\"dataframe\">\n",
       "  <thead>\n",
       "    <tr style=\"text-align: right;\">\n",
       "      <th></th>\n",
       "      <th>word</th>\n",
       "      <th>x1</th>\n",
       "      <th>y1</th>\n",
       "      <th>x2</th>\n",
       "      <th>y2</th>\n",
       "      <th>has_colon</th>\n",
       "      <th>char_case</th>\n",
       "    </tr>\n",
       "  </thead>\n",
       "  <tbody>\n",
       "    <tr>\n",
       "      <th>0</th>\n",
       "      <td>at</td>\n",
       "      <td>528</td>\n",
       "      <td>1301</td>\n",
       "      <td>561</td>\n",
       "      <td>1328</td>\n",
       "      <td>1</td>\n",
       "      <td>0</td>\n",
       "    </tr>\n",
       "    <tr>\n",
       "      <th>1</th>\n",
       "      <td>pages</td>\n",
       "      <td>664</td>\n",
       "      <td>1166</td>\n",
       "      <td>778</td>\n",
       "      <td>1195</td>\n",
       "      <td>0</td>\n",
       "      <td>2</td>\n",
       "    </tr>\n",
       "    <tr>\n",
       "      <th>2</th>\n",
       "      <td>tennessee</td>\n",
       "      <td>1547</td>\n",
       "      <td>1028</td>\n",
       "      <td>1734</td>\n",
       "      <td>1070</td>\n",
       "      <td>0</td>\n",
       "      <td>1</td>\n",
       "    </tr>\n",
       "    <tr>\n",
       "      <th>3</th>\n",
       "      <td>134-04</td>\n",
       "      <td>1827</td>\n",
       "      <td>110</td>\n",
       "      <td>1880</td>\n",
       "      <td>125</td>\n",
       "      <td>0</td>\n",
       "      <td>0</td>\n",
       "    </tr>\n",
       "    <tr>\n",
       "      <th>4</th>\n",
       "      <td>title</td>\n",
       "      <td>1164</td>\n",
       "      <td>2132</td>\n",
       "      <td>1298</td>\n",
       "      <td>2161</td>\n",
       "      <td>0</td>\n",
       "      <td>0</td>\n",
       "    </tr>\n",
       "    <tr>\n",
       "      <th>...</th>\n",
       "      <td>...</td>\n",
       "      <td>...</td>\n",
       "      <td>...</td>\n",
       "      <td>...</td>\n",
       "      <td>...</td>\n",
       "      <td>...</td>\n",
       "      <td>...</td>\n",
       "    </tr>\n",
       "    <tr>\n",
       "      <th>22131</th>\n",
       "      <td>on</td>\n",
       "      <td>1610</td>\n",
       "      <td>863</td>\n",
       "      <td>1647</td>\n",
       "      <td>886</td>\n",
       "      <td>0</td>\n",
       "      <td>0</td>\n",
       "    </tr>\n",
       "    <tr>\n",
       "      <th>22132</th>\n",
       "      <td>temperature.</td>\n",
       "      <td>1284</td>\n",
       "      <td>1171</td>\n",
       "      <td>1548</td>\n",
       "      <td>1196</td>\n",
       "      <td>0</td>\n",
       "      <td>0</td>\n",
       "    </tr>\n",
       "    <tr>\n",
       "      <th>22133</th>\n",
       "      <td>bc20-48</td>\n",
       "      <td>629</td>\n",
       "      <td>1562</td>\n",
       "      <td>788</td>\n",
       "      <td>1588</td>\n",
       "      <td>0</td>\n",
       "      <td>2</td>\n",
       "    </tr>\n",
       "    <tr>\n",
       "      <th>22134</th>\n",
       "      <td>1</td>\n",
       "      <td>424</td>\n",
       "      <td>1771</td>\n",
       "      <td>438</td>\n",
       "      <td>1796</td>\n",
       "      <td>0</td>\n",
       "      <td>0</td>\n",
       "    </tr>\n",
       "    <tr>\n",
       "      <th>22135</th>\n",
       "      <td>other</td>\n",
       "      <td>0</td>\n",
       "      <td>0</td>\n",
       "      <td>0</td>\n",
       "      <td>0</td>\n",
       "      <td>0</td>\n",
       "      <td>3</td>\n",
       "    </tr>\n",
       "  </tbody>\n",
       "</table>\n",
       "<p>22136 rows × 7 columns</p>\n",
       "</div>"
      ],
      "text/plain": [
       "               word    x1    y1    x2    y2  has_colon  char_case\n",
       "0      at            528   1301  561   1328  1          0        \n",
       "1      pages         664   1166  778   1195  0          2        \n",
       "2      tennessee     1547  1028  1734  1070  0          1        \n",
       "3      134-04        1827  110   1880  125   0          0        \n",
       "4      title         1164  2132  1298  2161  0          0        \n",
       "...      ...          ...   ...   ...   ... ..         ..        \n",
       "22131  on            1610  863   1647  886   0          0        \n",
       "22132  temperature.  1284  1171  1548  1196  0          0        \n",
       "22133  bc20-48       629   1562  788   1588  0          2        \n",
       "22134  1             424   1771  438   1796  0          0        \n",
       "22135  other         0     0     0     0     0          3        \n",
       "\n",
       "[22136 rows x 7 columns]"
      ]
     },
     "execution_count": 19,
     "metadata": {},
     "output_type": "execute_result"
    }
   ],
   "source": [
    "X_train_values = X_train.values.tolist()\n",
    "X_train_values.append(['other', 0, 0, 0, 0, 0, 3])\n",
    "y_train = y_train.append(pd.Series([3]))\n",
    "\n",
    "X_train = pd.DataFrame(X_train_values, columns=X_train.columns)\n",
    "X_train"
   ]
  },
  {
   "cell_type": "markdown",
   "metadata": {},
   "source": [
    "### Transform the training data as One hot encoding, scaling etc"
   ]
  },
  {
   "cell_type": "code",
   "execution_count": 20,
   "metadata": {},
   "outputs": [],
   "source": [
    "X_train = p.process(X_train, is_train=True)"
   ]
  },
  {
   "cell_type": "markdown",
   "metadata": {},
   "source": [
    "### Transform the validation data same as training data above"
   ]
  },
  {
   "cell_type": "code",
   "execution_count": 21,
   "metadata": {},
   "outputs": [
    {
     "name": "stderr",
     "output_type": "stream",
     "text": [
      "D:\\Programs\\Anaconda3\\lib\\site-packages\\pandas\\core\\indexing.py:1676: SettingWithCopyWarning: \n",
      "A value is trying to be set on a copy of a slice from a DataFrame.\n",
      "Try using .loc[row_indexer,col_indexer] = value instead\n",
      "\n",
      "See the caveats in the documentation: https://pandas.pydata.org/pandas-docs/stable/user_guide/indexing.html#returning-a-view-versus-a-copy\n",
      "  self._setitem_single_column(ilocs[0], value, pi)\n"
     ]
    }
   ],
   "source": [
    "X_val = p.process(X_val, is_train=False)"
   ]
  },
  {
   "cell_type": "markdown",
   "metadata": {},
   "source": [
    "### Define various models and add them into the list. SVC model is taking lot of time for processing and couldn't complete on local, hence excluded from the list of models below"
   ]
  },
  {
   "cell_type": "code",
   "execution_count": 22,
   "metadata": {},
   "outputs": [],
   "source": [
    "clf_decision_tree= DecisionTreeClassifier(criterion='entropy', random_state=0)  \n",
    "clf_random_forest = RandomForestClassifier()\n",
    "clf_svc = SVC(kernel='linear', random_state=0)  \n",
    "clf_gnb = GaussianNB()\n",
    "\n",
    "models_list = [clf_decision_tree, clf_random_forest, clf_gnb]\n",
    "\n"
   ]
  },
  {
   "cell_type": "markdown",
   "metadata": {},
   "source": [
    "### Train the models in the list above"
   ]
  },
  {
   "cell_type": "code",
   "execution_count": 23,
   "metadata": {},
   "outputs": [
    {
     "name": "stdout",
     "output_type": "stream",
     "text": [
      "Training models:\n",
      "Fitting model: DecisionTreeClassifier\n",
      "Fitting model: RandomForestClassifier\n",
      "Fitting model: GaussianNB\n"
     ]
    }
   ],
   "source": [
    "print('Training models:')\n",
    "for model in models_list:\n",
    "    p.train_models(model, X_train, y_train)"
   ]
  },
  {
   "cell_type": "markdown",
   "metadata": {},
   "source": [
    "### Evaluate model performance against validation dataset"
   ]
  },
  {
   "cell_type": "code",
   "execution_count": 24,
   "metadata": {},
   "outputs": [
    {
     "name": "stdout",
     "output_type": "stream",
     "text": [
      "Performance Metrics for Validation Dataset: \n",
      "\n",
      "Evaluating model: DecisionTreeClassifier\n",
      "Evaluating model: RandomForestClassifier\n",
      "Evaluating model: GaussianNB\n"
     ]
    },
    {
     "data": {
      "text/html": [
       "<div>\n",
       "<style scoped>\n",
       "    .dataframe tbody tr th:only-of-type {\n",
       "        vertical-align: middle;\n",
       "    }\n",
       "\n",
       "    .dataframe tbody tr th {\n",
       "        vertical-align: top;\n",
       "    }\n",
       "\n",
       "    .dataframe thead th {\n",
       "        text-align: right;\n",
       "    }\n",
       "</style>\n",
       "<table border=\"1\" class=\"dataframe\">\n",
       "  <thead>\n",
       "    <tr style=\"text-align: right;\">\n",
       "      <th></th>\n",
       "      <th>accuracy</th>\n",
       "      <th>f1_score (header)</th>\n",
       "      <th>f1_score (question)</th>\n",
       "      <th>f1_score (answer)</th>\n",
       "      <th>precision (header)</th>\n",
       "      <th>precision (question)</th>\n",
       "      <th>precision (answer)</th>\n",
       "    </tr>\n",
       "  </thead>\n",
       "  <tbody>\n",
       "    <tr>\n",
       "      <th>DecisionTreeClassifier</th>\n",
       "      <td>0.982143</td>\n",
       "      <td>0.957447</td>\n",
       "      <td>1.0</td>\n",
       "      <td>0.987805</td>\n",
       "      <td>0.918367</td>\n",
       "      <td>1.0</td>\n",
       "      <td>1.000000</td>\n",
       "    </tr>\n",
       "    <tr>\n",
       "      <th>RandomForestClassifier</th>\n",
       "      <td>0.977679</td>\n",
       "      <td>0.947368</td>\n",
       "      <td>1.0</td>\n",
       "      <td>0.984709</td>\n",
       "      <td>0.900000</td>\n",
       "      <td>1.0</td>\n",
       "      <td>1.000000</td>\n",
       "    </tr>\n",
       "    <tr>\n",
       "      <th>GaussianNB</th>\n",
       "      <td>0.441964</td>\n",
       "      <td>0.413146</td>\n",
       "      <td>1.0</td>\n",
       "      <td>0.401914</td>\n",
       "      <td>0.261905</td>\n",
       "      <td>1.0</td>\n",
       "      <td>0.976744</td>\n",
       "    </tr>\n",
       "  </tbody>\n",
       "</table>\n",
       "</div>"
      ],
      "text/plain": [
       "                        accuracy  f1_score (header)  f1_score (question)  \\\n",
       "DecisionTreeClassifier  0.982143  0.957447           1.0                   \n",
       "RandomForestClassifier  0.977679  0.947368           1.0                   \n",
       "GaussianNB              0.441964  0.413146           1.0                   \n",
       "\n",
       "                        f1_score (answer)  precision (header)  \\\n",
       "DecisionTreeClassifier  0.987805           0.918367             \n",
       "RandomForestClassifier  0.984709           0.900000             \n",
       "GaussianNB              0.401914           0.261905             \n",
       "\n",
       "                        precision (question)  precision (answer)  \n",
       "DecisionTreeClassifier  1.0                   1.000000            \n",
       "RandomForestClassifier  1.0                   1.000000            \n",
       "GaussianNB              1.0                   0.976744            "
      ]
     },
     "metadata": {},
     "output_type": "display_data"
    }
   ],
   "source": [
    "print('Performance Metrics for Validation Dataset: \\n')        \n",
    "p.evaluate_models(models_list, X_val, y_val)\n",
    "\n",
    "\n"
   ]
  },
  {
   "cell_type": "markdown",
   "metadata": {},
   "source": [
    "### Perform the exact same steps on testing data that were carried out on training dataset earlier"
   ]
  },
  {
   "cell_type": "code",
   "execution_count": 25,
   "metadata": {},
   "outputs": [],
   "source": [
    "df_data_all_test = df_data_all_test.dropna(subset=['text'])\n",
    "df_test = df_data_all_test.loc[:, ['text']]\n",
    "df_test.rename(columns={'text':'word'}, inplace=True)\n",
    "df_test.loc[:, ['x1']] = df_data_all_test['left']\n",
    "df_test.loc[:, ['y1']] = df_data_all_test['top']\n",
    "df_test.loc[:, ['x2']] = df_data_all_test['left'] + df_data_all_test['width']\n",
    "df_test.loc[:, ['y2']] = df_data_all_test['top'] + df_data_all_test['height']"
   ]
  },
  {
   "cell_type": "code",
   "execution_count": 26,
   "metadata": {},
   "outputs": [
    {
     "data": {
      "text/html": [
       "<div>\n",
       "<style scoped>\n",
       "    .dataframe tbody tr th:only-of-type {\n",
       "        vertical-align: middle;\n",
       "    }\n",
       "\n",
       "    .dataframe tbody tr th {\n",
       "        vertical-align: top;\n",
       "    }\n",
       "\n",
       "    .dataframe thead th {\n",
       "        text-align: right;\n",
       "    }\n",
       "</style>\n",
       "<table border=\"1\" class=\"dataframe\">\n",
       "  <thead>\n",
       "    <tr style=\"text-align: right;\">\n",
       "      <th></th>\n",
       "      <th>word</th>\n",
       "      <th>x1</th>\n",
       "      <th>y1</th>\n",
       "      <th>x2</th>\n",
       "      <th>y2</th>\n",
       "    </tr>\n",
       "  </thead>\n",
       "  <tbody>\n",
       "    <tr>\n",
       "      <th>0</th>\n",
       "      <td></td>\n",
       "      <td>34</td>\n",
       "      <td>357</td>\n",
       "      <td>401</td>\n",
       "      <td>592</td>\n",
       "    </tr>\n",
       "    <tr>\n",
       "      <th>1</th>\n",
       "      <td>Me</td>\n",
       "      <td>1325</td>\n",
       "      <td>163</td>\n",
       "      <td>1355</td>\n",
       "      <td>185</td>\n",
       "    </tr>\n",
       "    <tr>\n",
       "      <th>2</th>\n",
       "      <td>ATT.</td>\n",
       "      <td>289</td>\n",
       "      <td>244</td>\n",
       "      <td>352</td>\n",
       "      <td>271</td>\n",
       "    </tr>\n",
       "    <tr>\n",
       "      <th>3</th>\n",
       "      <td>GEN.</td>\n",
       "      <td>379</td>\n",
       "      <td>243</td>\n",
       "      <td>441</td>\n",
       "      <td>271</td>\n",
       "    </tr>\n",
       "    <tr>\n",
       "      <th>4</th>\n",
       "      <td>ADMIN.</td>\n",
       "      <td>453</td>\n",
       "      <td>236</td>\n",
       "      <td>564</td>\n",
       "      <td>283</td>\n",
       "    </tr>\n",
       "  </tbody>\n",
       "</table>\n",
       "</div>"
      ],
      "text/plain": [
       "     word    x1   y1    x2   y2\n",
       "0          34    357  401   592\n",
       "1  Me      1325  163  1355  185\n",
       "2  ATT.    289   244  352   271\n",
       "3  GEN.    379   243  441   271\n",
       "4  ADMIN.  453   236  564   283"
      ]
     },
     "metadata": {},
     "output_type": "display_data"
    },
    {
     "data": {
      "text/html": [
       "<div>\n",
       "<style scoped>\n",
       "    .dataframe tbody tr th:only-of-type {\n",
       "        vertical-align: middle;\n",
       "    }\n",
       "\n",
       "    .dataframe tbody tr th {\n",
       "        vertical-align: top;\n",
       "    }\n",
       "\n",
       "    .dataframe thead th {\n",
       "        text-align: right;\n",
       "    }\n",
       "</style>\n",
       "<table border=\"1\" class=\"dataframe\">\n",
       "  <thead>\n",
       "    <tr style=\"text-align: right;\">\n",
       "      <th></th>\n",
       "      <th>word</th>\n",
       "      <th>x1</th>\n",
       "      <th>y1</th>\n",
       "      <th>x2</th>\n",
       "      <th>y2</th>\n",
       "      <th>has_colon</th>\n",
       "      <th>char_case</th>\n",
       "      <th>ner_calc</th>\n",
       "    </tr>\n",
       "  </thead>\n",
       "  <tbody>\n",
       "    <tr>\n",
       "      <th>0</th>\n",
       "      <td></td>\n",
       "      <td>34</td>\n",
       "      <td>357</td>\n",
       "      <td>401</td>\n",
       "      <td>592</td>\n",
       "      <td>0</td>\n",
       "      <td>0</td>\n",
       "      <td>3</td>\n",
       "    </tr>\n",
       "    <tr>\n",
       "      <th>1</th>\n",
       "      <td>me</td>\n",
       "      <td>1325</td>\n",
       "      <td>163</td>\n",
       "      <td>1355</td>\n",
       "      <td>185</td>\n",
       "      <td>0</td>\n",
       "      <td>1</td>\n",
       "      <td>1</td>\n",
       "    </tr>\n",
       "    <tr>\n",
       "      <th>2</th>\n",
       "      <td>att.</td>\n",
       "      <td>289</td>\n",
       "      <td>244</td>\n",
       "      <td>352</td>\n",
       "      <td>271</td>\n",
       "      <td>0</td>\n",
       "      <td>2</td>\n",
       "      <td>3</td>\n",
       "    </tr>\n",
       "    <tr>\n",
       "      <th>3</th>\n",
       "      <td>gen.</td>\n",
       "      <td>379</td>\n",
       "      <td>243</td>\n",
       "      <td>441</td>\n",
       "      <td>271</td>\n",
       "      <td>0</td>\n",
       "      <td>2</td>\n",
       "      <td>3</td>\n",
       "    </tr>\n",
       "    <tr>\n",
       "      <th>4</th>\n",
       "      <td>admin.</td>\n",
       "      <td>453</td>\n",
       "      <td>236</td>\n",
       "      <td>564</td>\n",
       "      <td>283</td>\n",
       "      <td>0</td>\n",
       "      <td>2</td>\n",
       "      <td>3</td>\n",
       "    </tr>\n",
       "  </tbody>\n",
       "</table>\n",
       "</div>"
      ],
      "text/plain": [
       "     word    x1   y1    x2   y2  has_colon  char_case  ner_calc\n",
       "0          34    357  401   592  0          0          3       \n",
       "1  me      1325  163  1355  185  0          1          1       \n",
       "2  att.    289   244  352   271  0          2          3       \n",
       "3  gen.    379   243  441   271  0          2          3       \n",
       "4  admin.  453   236  564   283  0          2          3       "
      ]
     },
     "metadata": {},
     "output_type": "display_data"
    },
    {
     "name": "stderr",
     "output_type": "stream",
     "text": [
      "D:\\Programs\\Anaconda3\\lib\\site-packages\\pandas\\core\\indexing.py:1676: SettingWithCopyWarning: \n",
      "A value is trying to be set on a copy of a slice from a DataFrame.\n",
      "Try using .loc[row_indexer,col_indexer] = value instead\n",
      "\n",
      "See the caveats in the documentation: https://pandas.pydata.org/pandas-docs/stable/user_guide/indexing.html#returning-a-view-versus-a-copy\n",
      "  self._setitem_single_column(ilocs[0], value, pi)\n"
     ]
    }
   ],
   "source": [
    "display(df_test.head())\n",
    "df_test = p.pre_prcess(df_test)\n",
    "display(df_test.head())\n",
    "X_test = df_test[X_columns]\n",
    "y_test = df_test[y_column]\n",
    "\n",
    "X_test = p.process(X_test, is_train=False)"
   ]
  },
  {
   "cell_type": "markdown",
   "metadata": {},
   "source": [
    "### Evaluate model performance against testing dataset"
   ]
  },
  {
   "cell_type": "code",
   "execution_count": 27,
   "metadata": {},
   "outputs": [
    {
     "name": "stdout",
     "output_type": "stream",
     "text": [
      "Performance Metrics for Test Dataset: \n",
      "\n",
      "Evaluating model: DecisionTreeClassifier\n",
      "Evaluating model: RandomForestClassifier\n",
      "Evaluating model: GaussianNB\n"
     ]
    },
    {
     "data": {
      "text/html": [
       "<div>\n",
       "<style scoped>\n",
       "    .dataframe tbody tr th:only-of-type {\n",
       "        vertical-align: middle;\n",
       "    }\n",
       "\n",
       "    .dataframe tbody tr th {\n",
       "        vertical-align: top;\n",
       "    }\n",
       "\n",
       "    .dataframe thead th {\n",
       "        text-align: right;\n",
       "    }\n",
       "</style>\n",
       "<table border=\"1\" class=\"dataframe\">\n",
       "  <thead>\n",
       "    <tr style=\"text-align: right;\">\n",
       "      <th></th>\n",
       "      <th>accuracy</th>\n",
       "      <th>f1_score (header)</th>\n",
       "      <th>f1_score (question)</th>\n",
       "      <th>f1_score (answer)</th>\n",
       "      <th>precision (header)</th>\n",
       "      <th>precision (question)</th>\n",
       "      <th>precision (answer)</th>\n",
       "    </tr>\n",
       "  </thead>\n",
       "  <tbody>\n",
       "    <tr>\n",
       "      <th>DecisionTreeClassifier</th>\n",
       "      <td>0.978070</td>\n",
       "      <td>0.956107</td>\n",
       "      <td>1.0</td>\n",
       "      <td>0.984230</td>\n",
       "      <td>0.927043</td>\n",
       "      <td>1.0</td>\n",
       "      <td>0.995443</td>\n",
       "    </tr>\n",
       "    <tr>\n",
       "      <th>RandomForestClassifier</th>\n",
       "      <td>0.977569</td>\n",
       "      <td>0.955704</td>\n",
       "      <td>1.0</td>\n",
       "      <td>0.983791</td>\n",
       "      <td>0.915166</td>\n",
       "      <td>1.0</td>\n",
       "      <td>1.000000</td>\n",
       "    </tr>\n",
       "    <tr>\n",
       "      <th>GaussianNB</th>\n",
       "      <td>0.414286</td>\n",
       "      <td>0.428047</td>\n",
       "      <td>1.0</td>\n",
       "      <td>0.323785</td>\n",
       "      <td>0.280244</td>\n",
       "      <td>1.0</td>\n",
       "      <td>0.860108</td>\n",
       "    </tr>\n",
       "  </tbody>\n",
       "</table>\n",
       "</div>"
      ],
      "text/plain": [
       "                        accuracy  f1_score (header)  f1_score (question)  \\\n",
       "DecisionTreeClassifier  0.978070  0.956107           1.0                   \n",
       "RandomForestClassifier  0.977569  0.955704           1.0                   \n",
       "GaussianNB              0.414286  0.428047           1.0                   \n",
       "\n",
       "                        f1_score (answer)  precision (header)  \\\n",
       "DecisionTreeClassifier  0.984230           0.927043             \n",
       "RandomForestClassifier  0.983791           0.915166             \n",
       "GaussianNB              0.323785           0.280244             \n",
       "\n",
       "                        precision (question)  precision (answer)  \n",
       "DecisionTreeClassifier  1.0                   0.995443            \n",
       "RandomForestClassifier  1.0                   1.000000            \n",
       "GaussianNB              1.0                   0.860108            "
      ]
     },
     "metadata": {},
     "output_type": "display_data"
    }
   ],
   "source": [
    "print('Performance Metrics for Test Dataset: \\n')  \n",
    "p.evaluate_models(models_list, X_test, y_test)\n",
    "      \n"
   ]
  },
  {
   "cell_type": "markdown",
   "metadata": {},
   "source": [
    "### Plot confusion matrix for all models on testing dataset"
   ]
  },
  {
   "cell_type": "code",
   "execution_count": 28,
   "metadata": {},
   "outputs": [
    {
     "name": "stdout",
     "output_type": "stream",
     "text": [
      "Plotting for model: DecisionTreeClassifier\n",
      "confusion matrix:\n"
     ]
    },
    {
     "data": {
      "text/plain": [
       "array([[1906,    0,   25],\n",
       "       [   0,  438,    0],\n",
       "       [ 150,    0, 5461]], dtype=int64)"
      ]
     },
     "metadata": {},
     "output_type": "display_data"
    },
    {
     "name": "stdout",
     "output_type": "stream",
     "text": [
      "multilabel confusion matrix:\n"
     ]
    },
    {
     "data": {
      "text/plain": [
       "array([[[7980,    0],\n",
       "        [   0,    0]],\n",
       "\n",
       "       [[5899,  150],\n",
       "        [  25, 1906]],\n",
       "\n",
       "       [[7542,    0],\n",
       "        [   0,  438]],\n",
       "\n",
       "       [[2344,   25],\n",
       "        [ 150, 5461]]], dtype=int64)"
      ]
     },
     "metadata": {},
     "output_type": "display_data"
    },
    {
     "data": {
      "image/png": "[encoded data removed]",
      "text/plain": [
       "<Figure size 432x288 with 1 Axes>"
      ]
     },
     "metadata": {
      "needs_background": "light"
     },
     "output_type": "display_data"
    },
    {
     "name": "stdout",
     "output_type": "stream",
     "text": [
      "Plotting for model: RandomForestClassifier\n",
      "confusion matrix:\n"
     ]
    },
    {
     "data": {
      "text/plain": [
       "array([[1931,    0,    0],\n",
       "       [   0,  438,    0],\n",
       "       [ 179,    0, 5432]], dtype=int64)"
      ]
     },
     "metadata": {},
     "output_type": "display_data"
    },
    {
     "name": "stdout",
     "output_type": "stream",
     "text": [
      "multilabel confusion matrix:\n"
     ]
    },
    {
     "data": {
      "text/plain": [
       "array([[[7980,    0],\n",
       "        [   0,    0]],\n",
       "\n",
       "       [[5870,  179],\n",
       "        [   0, 1931]],\n",
       "\n",
       "       [[7542,    0],\n",
       "        [   0,  438]],\n",
       "\n",
       "       [[2369,    0],\n",
       "        [ 179, 5432]]], dtype=int64)"
      ]
     },
     "metadata": {},
     "output_type": "display_data"
    },
    {
     "data": {
      "image/png": "[encoded data removed]",
      "text/plain": [
       "<Figure size 432x288 with 1 Axes>"
      ]
     },
     "metadata": {
      "needs_background": "light"
     },
     "output_type": "display_data"
    },
    {
     "name": "stdout",
     "output_type": "stream",
     "text": [
      "Plotting for model: GaussianNB\n",
      "confusion matrix:\n"
     ]
    },
    {
     "data": {
      "text/plain": [
       "array([[1749,    0,  182],\n",
       "       [   0,  438,    0],\n",
       "       [4492,    0, 1119]], dtype=int64)"
      ]
     },
     "metadata": {},
     "output_type": "display_data"
    },
    {
     "name": "stdout",
     "output_type": "stream",
     "text": [
      "multilabel confusion matrix:\n"
     ]
    },
    {
     "data": {
      "text/plain": [
       "array([[[7980,    0],\n",
       "        [   0,    0]],\n",
       "\n",
       "       [[1557, 4492],\n",
       "        [ 182, 1749]],\n",
       "\n",
       "       [[7542,    0],\n",
       "        [   0,  438]],\n",
       "\n",
       "       [[2187,  182],\n",
       "        [4492, 1119]]], dtype=int64)"
      ]
     },
     "metadata": {},
     "output_type": "display_data"
    },
    {
     "data": {
      "image/png": "[encoded data removed]",
      "text/plain": [
       "<Figure size 432x288 with 1 Axes>"
      ]
     },
     "metadata": {
      "needs_background": "light"
     },
     "output_type": "display_data"
    }
   ],
   "source": [
    "for model in models_list:\n",
    "    p.plot_confusion_matrix_for_models(model, X_test, y_test)\n"
   ]
  },
  {
   "cell_type": "code",
   "execution_count": 29,
   "metadata": {},
   "outputs": [],
   "source": [
    "p.word_type_from_numeric = word_type_from_numeric\n",
    "p.X_columns = X_columns"
   ]
  },
  {
   "cell_type": "markdown",
   "metadata": {},
   "source": [
    "### example word predictions using the trained models"
   ]
  },
  {
   "cell_type": "code",
   "execution_count": 30,
   "metadata": {},
   "outputs": [
    {
     "data": {
      "text/html": [
       "<div>\n",
       "<style scoped>\n",
       "    .dataframe tbody tr th:only-of-type {\n",
       "        vertical-align: middle;\n",
       "    }\n",
       "\n",
       "    .dataframe tbody tr th {\n",
       "        vertical-align: top;\n",
       "    }\n",
       "\n",
       "    .dataframe thead th {\n",
       "        text-align: right;\n",
       "    }\n",
       "</style>\n",
       "<table border=\"1\" class=\"dataframe\">\n",
       "  <thead>\n",
       "    <tr style=\"text-align: right;\">\n",
       "      <th></th>\n",
       "      <th>Word</th>\n",
       "      <th>model name</th>\n",
       "      <th>Predicted Type</th>\n",
       "    </tr>\n",
       "  </thead>\n",
       "  <tbody>\n",
       "    <tr>\n",
       "      <th>1</th>\n",
       "      <td>R&amp;D</td>\n",
       "      <td>DecisionTreeClassifier</td>\n",
       "      <td>Header</td>\n",
       "    </tr>\n",
       "    <tr>\n",
       "      <th>2</th>\n",
       "      <td>R&amp;D</td>\n",
       "      <td>RandomForestClassifier</td>\n",
       "      <td>Header</td>\n",
       "    </tr>\n",
       "    <tr>\n",
       "      <th>3</th>\n",
       "      <td>R&amp;D</td>\n",
       "      <td>GaussianNB</td>\n",
       "      <td>Header</td>\n",
       "    </tr>\n",
       "  </tbody>\n",
       "</table>\n",
       "</div>"
      ],
      "text/plain": [
       "  Word              model name Predicted Type\n",
       "1  R&D  DecisionTreeClassifier  Header       \n",
       "2  R&D  RandomForestClassifier  Header       \n",
       "3  R&D  GaussianNB              Header       "
      ]
     },
     "metadata": {},
     "output_type": "display_data"
    }
   ],
   "source": [
    "to_predict = {'word':'R&D', 'x1':200, 'y1':350, 'x2':300, 'y2':400} \n",
    "p.predict_word_type(models_list, to_predict)\n",
    "\n"
   ]
  },
  {
   "cell_type": "markdown",
   "metadata": {},
   "source": [
    "### another example word prediction using the trained models"
   ]
  },
  {
   "cell_type": "code",
   "execution_count": null,
   "metadata": {},
   "outputs": [],
   "source": []
  },
  {
   "cell_type": "code",
   "execution_count": 31,
   "metadata": {},
   "outputs": [
    {
     "data": {
      "text/html": [
       "<div>\n",
       "<style scoped>\n",
       "    .dataframe tbody tr th:only-of-type {\n",
       "        vertical-align: middle;\n",
       "    }\n",
       "\n",
       "    .dataframe tbody tr th {\n",
       "        vertical-align: top;\n",
       "    }\n",
       "\n",
       "    .dataframe thead th {\n",
       "        text-align: right;\n",
       "    }\n",
       "</style>\n",
       "<table border=\"1\" class=\"dataframe\">\n",
       "  <thead>\n",
       "    <tr style=\"text-align: right;\">\n",
       "      <th></th>\n",
       "      <th>Word</th>\n",
       "      <th>model name</th>\n",
       "      <th>Predicted Type</th>\n",
       "    </tr>\n",
       "  </thead>\n",
       "  <tbody>\n",
       "    <tr>\n",
       "      <th>1</th>\n",
       "      <td>Submission</td>\n",
       "      <td>DecisionTreeClassifier</td>\n",
       "      <td>Answer</td>\n",
       "    </tr>\n",
       "    <tr>\n",
       "      <th>2</th>\n",
       "      <td>Submission</td>\n",
       "      <td>RandomForestClassifier</td>\n",
       "      <td>Answer</td>\n",
       "    </tr>\n",
       "    <tr>\n",
       "      <th>3</th>\n",
       "      <td>Submission</td>\n",
       "      <td>GaussianNB</td>\n",
       "      <td>Header</td>\n",
       "    </tr>\n",
       "  </tbody>\n",
       "</table>\n",
       "</div>"
      ],
      "text/plain": [
       "         Word              model name Predicted Type\n",
       "1  Submission  DecisionTreeClassifier  Answer       \n",
       "2  Submission  RandomForestClassifier  Answer       \n",
       "3  Submission  GaussianNB              Header       "
      ]
     },
     "metadata": {},
     "output_type": "display_data"
    }
   ],
   "source": [
    "to_predict = {'word':'Submission', 'x1':100, 'y1':600, 'x2':150, 'y2':650} \n",
    "p.predict_word_type(models_list, to_predict)"
   ]
  }
 ],
 "metadata": {
  "kernelspec": {
   "display_name": "Python 3",
   "language": "python",
   "name": "python3"
  },
  "language_info": {
   "codemirror_mode": {
    "name": "ipython",
    "version": 3
   },
   "file_extension": ".py",
   "mimetype": "text/x-python",
   "name": "python",
   "nbconvert_exporter": "python",
   "pygments_lexer": "ipython3",
   "version": "3.8.3"
  }
 },
 "nbformat": 4,
 "nbformat_minor": 4
}
