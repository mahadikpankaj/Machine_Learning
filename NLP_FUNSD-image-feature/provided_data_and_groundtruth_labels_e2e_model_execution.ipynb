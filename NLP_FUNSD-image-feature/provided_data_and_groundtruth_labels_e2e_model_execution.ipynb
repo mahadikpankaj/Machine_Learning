{
 "cells": [
  {
   "cell_type": "markdown",
   "metadata": {},
   "source": [
    "### Import custom library that contains functions to process the data"
   ]
  },
  {
   "cell_type": "code",
   "execution_count": 1,
   "metadata": {},
   "outputs": [],
   "source": [
    "import pankaj_library as p\n"
   ]
  },
  {
   "cell_type": "markdown",
   "metadata": {},
   "source": [
    "### import necessary libraries"
   ]
  },
  {
   "cell_type": "code",
   "execution_count": 2,
   "metadata": {},
   "outputs": [
    {
     "name": "stderr",
     "output_type": "stream",
     "text": [
      "<ipython-input-2-922d2289a39c>:10: FutureWarning: Passing a negative integer is deprecated in version 1.0 and will not be supported in future version. Instead, use None to not limit the column width.\n",
      "  pd.set_option('max_colwidth', -1)\n"
     ]
    }
   ],
   "source": [
    "import pandas as pd\n",
    "\n",
    "from sklearn.ensemble import RandomForestClassifier\n",
    "from sklearn.svm import SVC\n",
    "from sklearn.tree import DecisionTreeClassifier\n",
    "from sklearn.naive_bayes import GaussianNB\n",
    "\n",
    "from sklearn.model_selection import train_test_split  \n",
    "\n",
    "pd.set_option('max_colwidth', -1)"
   ]
  },
  {
   "cell_type": "markdown",
   "metadata": {},
   "source": [
    "### define mapping of word to type (Header, Question, Answer or Other)"
   ]
  },
  {
   "cell_type": "code",
   "execution_count": 3,
   "metadata": {},
   "outputs": [
    {
     "data": {
      "text/plain": [
       "{0: 'Other', 1: 'Header', 2: 'Question', 3: 'Answer'}"
      ]
     },
     "execution_count": 3,
     "metadata": {},
     "output_type": "execute_result"
    }
   ],
   "source": [
    "word_type_to_numeric = {'Other':0, 'Header':1, 'Question':2, 'Answer':3}\n",
    "word_type_from_numeric = {val:key for key,val in word_type_to_numeric.items()}\n",
    "word_type_from_numeric"
   ]
  },
  {
   "cell_type": "markdown",
   "metadata": {},
   "source": [
    "### download and load the train data"
   ]
  },
  {
   "cell_type": "code",
   "execution_count": 4,
   "metadata": {},
   "outputs": [
    {
     "name": "stderr",
     "output_type": "stream",
     "text": [
      "Using custom data configuration nielsr--funsd-image-feature-0dd78707c0e0190b\n",
      "Reusing dataset parquet (C:\\Users\\admin\\.cache\\huggingface\\datasets\\nielsr___parquet\\nielsr--funsd-image-feature-0dd78707c0e0190b\\0.0.0\\7328ef7ee03eaf3f86ae40594d46a1cec86161704e02dd19f232d81eee72ade8)\n"
     ]
    },
    {
     "data": {
      "application/vnd.jupyter.widget-view+json": {
       "model_id": "a0db73572c6e462c9f8b408e674bf0ee",
       "version_major": 2,
       "version_minor": 0
      },
      "text/plain": [
       "  0%|          | 0/2 [00:00<?, ?it/s]"
      ]
     },
     "metadata": {},
     "output_type": "display_data"
    }
   ],
   "source": [
    "df_train = p.get_data('train')\n"
   ]
  },
  {
   "cell_type": "code",
   "execution_count": 5,
   "metadata": {},
   "outputs": [
    {
     "data": {
      "text/html": [
       "<div>\n",
       "<style scoped>\n",
       "    .dataframe tbody tr th:only-of-type {\n",
       "        vertical-align: middle;\n",
       "    }\n",
       "\n",
       "    .dataframe tbody tr th {\n",
       "        vertical-align: top;\n",
       "    }\n",
       "\n",
       "    .dataframe thead th {\n",
       "        text-align: right;\n",
       "    }\n",
       "</style>\n",
       "<table border=\"1\" class=\"dataframe\">\n",
       "  <thead>\n",
       "    <tr style=\"text-align: right;\">\n",
       "      <th></th>\n",
       "      <th>word</th>\n",
       "      <th>x1</th>\n",
       "      <th>y1</th>\n",
       "      <th>x2</th>\n",
       "      <th>y2</th>\n",
       "      <th>ner</th>\n",
       "    </tr>\n",
       "  </thead>\n",
       "  <tbody>\n",
       "    <tr>\n",
       "      <th>0</th>\n",
       "      <td>R&amp;D</td>\n",
       "      <td>383</td>\n",
       "      <td>91</td>\n",
       "      <td>493</td>\n",
       "      <td>175</td>\n",
       "      <td>0</td>\n",
       "    </tr>\n",
       "    <tr>\n",
       "      <th>1</th>\n",
       "      <td>:</td>\n",
       "      <td>287</td>\n",
       "      <td>316</td>\n",
       "      <td>295</td>\n",
       "      <td>327</td>\n",
       "      <td>2</td>\n",
       "    </tr>\n",
       "    <tr>\n",
       "      <th>2</th>\n",
       "      <td>Suggestion:</td>\n",
       "      <td>124</td>\n",
       "      <td>355</td>\n",
       "      <td>221</td>\n",
       "      <td>370</td>\n",
       "      <td>2</td>\n",
       "    </tr>\n",
       "    <tr>\n",
       "      <th>3</th>\n",
       "      <td>Date:</td>\n",
       "      <td>632</td>\n",
       "      <td>268</td>\n",
       "      <td>679</td>\n",
       "      <td>282</td>\n",
       "      <td>2</td>\n",
       "    </tr>\n",
       "    <tr>\n",
       "      <th>4</th>\n",
       "      <td>Licensee</td>\n",
       "      <td>670</td>\n",
       "      <td>309</td>\n",
       "      <td>748</td>\n",
       "      <td>323</td>\n",
       "      <td>3</td>\n",
       "    </tr>\n",
       "  </tbody>\n",
       "</table>\n",
       "</div>"
      ],
      "text/plain": [
       "          word   x1   y1   x2   y2  ner\n",
       "0  R&D          383  91   493  175  0  \n",
       "1  :            287  316  295  327  2  \n",
       "2  Suggestion:  124  355  221  370  2  \n",
       "3  Date:        632  268  679  282  2  \n",
       "4  Licensee     670  309  748  323  3  "
      ]
     },
     "execution_count": 5,
     "metadata": {},
     "output_type": "execute_result"
    }
   ],
   "source": [
    "df_train.head()"
   ]
  },
  {
   "cell_type": "markdown",
   "metadata": {},
   "source": [
    "###  Preprocess the data and generate the ground truth labels"
   ]
  },
  {
   "cell_type": "code",
   "execution_count": 6,
   "metadata": {},
   "outputs": [],
   "source": [
    "df_train = p.pre_prcess(df_train)"
   ]
  },
  {
   "cell_type": "code",
   "execution_count": 7,
   "metadata": {},
   "outputs": [
    {
     "data": {
      "text/html": [
       "<div>\n",
       "<style scoped>\n",
       "    .dataframe tbody tr th:only-of-type {\n",
       "        vertical-align: middle;\n",
       "    }\n",
       "\n",
       "    .dataframe tbody tr th {\n",
       "        vertical-align: top;\n",
       "    }\n",
       "\n",
       "    .dataframe thead th {\n",
       "        text-align: right;\n",
       "    }\n",
       "</style>\n",
       "<table border=\"1\" class=\"dataframe\">\n",
       "  <thead>\n",
       "    <tr style=\"text-align: right;\">\n",
       "      <th></th>\n",
       "      <th>word</th>\n",
       "      <th>x1</th>\n",
       "      <th>y1</th>\n",
       "      <th>x2</th>\n",
       "      <th>y2</th>\n",
       "      <th>ner</th>\n",
       "      <th>has_colon</th>\n",
       "      <th>char_case</th>\n",
       "      <th>ner_calc</th>\n",
       "    </tr>\n",
       "  </thead>\n",
       "  <tbody>\n",
       "    <tr>\n",
       "      <th>0</th>\n",
       "      <td>r&amp;d</td>\n",
       "      <td>383</td>\n",
       "      <td>91</td>\n",
       "      <td>493</td>\n",
       "      <td>175</td>\n",
       "      <td>0</td>\n",
       "      <td>0</td>\n",
       "      <td>2</td>\n",
       "      <td>1</td>\n",
       "    </tr>\n",
       "    <tr>\n",
       "      <th>1</th>\n",
       "      <td></td>\n",
       "      <td>287</td>\n",
       "      <td>316</td>\n",
       "      <td>295</td>\n",
       "      <td>327</td>\n",
       "      <td>2</td>\n",
       "      <td>1</td>\n",
       "      <td>0</td>\n",
       "      <td>2</td>\n",
       "    </tr>\n",
       "    <tr>\n",
       "      <th>2</th>\n",
       "      <td>suggestion</td>\n",
       "      <td>124</td>\n",
       "      <td>355</td>\n",
       "      <td>221</td>\n",
       "      <td>370</td>\n",
       "      <td>2</td>\n",
       "      <td>1</td>\n",
       "      <td>1</td>\n",
       "      <td>2</td>\n",
       "    </tr>\n",
       "    <tr>\n",
       "      <th>3</th>\n",
       "      <td>date</td>\n",
       "      <td>632</td>\n",
       "      <td>268</td>\n",
       "      <td>679</td>\n",
       "      <td>282</td>\n",
       "      <td>2</td>\n",
       "      <td>1</td>\n",
       "      <td>1</td>\n",
       "      <td>2</td>\n",
       "    </tr>\n",
       "    <tr>\n",
       "      <th>4</th>\n",
       "      <td>licensee</td>\n",
       "      <td>670</td>\n",
       "      <td>309</td>\n",
       "      <td>748</td>\n",
       "      <td>323</td>\n",
       "      <td>3</td>\n",
       "      <td>0</td>\n",
       "      <td>1</td>\n",
       "      <td>3</td>\n",
       "    </tr>\n",
       "  </tbody>\n",
       "</table>\n",
       "</div>"
      ],
      "text/plain": [
       "         word   x1   y1   x2   y2  ner  has_colon  char_case  ner_calc\n",
       "0  r&d         383  91   493  175  0    0          2          1       \n",
       "1              287  316  295  327  2    1          0          2       \n",
       "2  suggestion  124  355  221  370  2    1          1          2       \n",
       "3  date        632  268  679  282  2    1          1          2       \n",
       "4  licensee    670  309  748  323  3    0          1          3       "
      ]
     },
     "execution_count": 7,
     "metadata": {},
     "output_type": "execute_result"
    }
   ],
   "source": [
    "df_train.head()"
   ]
  },
  {
   "cell_type": "code",
   "execution_count": 8,
   "metadata": {},
   "outputs": [],
   "source": [
    "y_column = 'ner'\n",
    "X_columns = ['word', 'x1', 'y1', 'x2', 'y2', 'has_colon', 'char_case']\n",
    "\n",
    "X = df_train[X_columns]\n",
    "y = df_train[y_column]\n",
    "\n"
   ]
  },
  {
   "cell_type": "markdown",
   "metadata": {},
   "source": [
    "### Split train data into train set and validation set"
   ]
  },
  {
   "cell_type": "code",
   "execution_count": 9,
   "metadata": {},
   "outputs": [],
   "source": [
    "X_train, X_val, y_train, y_val= train_test_split(X, y, test_size= 0.01, random_state=0)  "
   ]
  },
  {
   "cell_type": "markdown",
   "metadata": {},
   "source": [
    "### add a default entry of 'other' to map non-existing words, to avoid failure in one hot encoding"
   ]
  },
  {
   "cell_type": "code",
   "execution_count": 10,
   "metadata": {},
   "outputs": [
    {
     "data": {
      "text/html": [
       "<div>\n",
       "<style scoped>\n",
       "    .dataframe tbody tr th:only-of-type {\n",
       "        vertical-align: middle;\n",
       "    }\n",
       "\n",
       "    .dataframe tbody tr th {\n",
       "        vertical-align: top;\n",
       "    }\n",
       "\n",
       "    .dataframe thead th {\n",
       "        text-align: right;\n",
       "    }\n",
       "</style>\n",
       "<table border=\"1\" class=\"dataframe\">\n",
       "  <thead>\n",
       "    <tr style=\"text-align: right;\">\n",
       "      <th></th>\n",
       "      <th>word</th>\n",
       "      <th>x1</th>\n",
       "      <th>y1</th>\n",
       "      <th>x2</th>\n",
       "      <th>y2</th>\n",
       "      <th>has_colon</th>\n",
       "      <th>char_case</th>\n",
       "    </tr>\n",
       "  </thead>\n",
       "  <tbody>\n",
       "    <tr>\n",
       "      <th>0</th>\n",
       "      <td>642-138</td>\n",
       "      <td>774</td>\n",
       "      <td>131</td>\n",
       "      <td>845</td>\n",
       "      <td>152</td>\n",
       "      <td>0</td>\n",
       "      <td>0</td>\n",
       "    </tr>\n",
       "    <tr>\n",
       "      <th>1</th>\n",
       "      <td>s.</td>\n",
       "      <td>805</td>\n",
       "      <td>306</td>\n",
       "      <td>815</td>\n",
       "      <td>320</td>\n",
       "      <td>0</td>\n",
       "      <td>2</td>\n",
       "    </tr>\n",
       "    <tr>\n",
       "      <th>2</th>\n",
       "      <td>mark</td>\n",
       "      <td>174</td>\n",
       "      <td>296</td>\n",
       "      <td>225</td>\n",
       "      <td>311</td>\n",
       "      <td>0</td>\n",
       "      <td>1</td>\n",
       "    </tr>\n",
       "    <tr>\n",
       "      <th>3</th>\n",
       "      <td>macon</td>\n",
       "      <td>627</td>\n",
       "      <td>394</td>\n",
       "      <td>682</td>\n",
       "      <td>408</td>\n",
       "      <td>0</td>\n",
       "      <td>2</td>\n",
       "    </tr>\n",
       "    <tr>\n",
       "      <th>4</th>\n",
       "      <td>richland</td>\n",
       "      <td>228</td>\n",
       "      <td>86</td>\n",
       "      <td>301</td>\n",
       "      <td>98</td>\n",
       "      <td>0</td>\n",
       "      <td>2</td>\n",
       "    </tr>\n",
       "    <tr>\n",
       "      <th>...</th>\n",
       "      <td>...</td>\n",
       "      <td>...</td>\n",
       "      <td>...</td>\n",
       "      <td>...</td>\n",
       "      <td>...</td>\n",
       "      <td>...</td>\n",
       "      <td>...</td>\n",
       "    </tr>\n",
       "    <tr>\n",
       "      <th>21665</th>\n",
       "      <td>yr</td>\n",
       "      <td>306</td>\n",
       "      <td>530</td>\n",
       "      <td>334</td>\n",
       "      <td>541</td>\n",
       "      <td>0</td>\n",
       "      <td>2</td>\n",
       "    </tr>\n",
       "    <tr>\n",
       "      <th>21666</th>\n",
       "      <td>glycol</td>\n",
       "      <td>864</td>\n",
       "      <td>754</td>\n",
       "      <td>936</td>\n",
       "      <td>767</td>\n",
       "      <td>0</td>\n",
       "      <td>0</td>\n",
       "    </tr>\n",
       "    <tr>\n",
       "      <th>21667</th>\n",
       "      <td>d13</td>\n",
       "      <td>339</td>\n",
       "      <td>434</td>\n",
       "      <td>371</td>\n",
       "      <td>448</td>\n",
       "      <td>0</td>\n",
       "      <td>2</td>\n",
       "    </tr>\n",
       "    <tr>\n",
       "      <th>21668</th>\n",
       "      <td>25/</td>\n",
       "      <td>309</td>\n",
       "      <td>895</td>\n",
       "      <td>337</td>\n",
       "      <td>909</td>\n",
       "      <td>0</td>\n",
       "      <td>0</td>\n",
       "    </tr>\n",
       "    <tr>\n",
       "      <th>21669</th>\n",
       "      <td>other</td>\n",
       "      <td>0</td>\n",
       "      <td>0</td>\n",
       "      <td>0</td>\n",
       "      <td>0</td>\n",
       "      <td>0</td>\n",
       "      <td>3</td>\n",
       "    </tr>\n",
       "  </tbody>\n",
       "</table>\n",
       "<p>21670 rows × 7 columns</p>\n",
       "</div>"
      ],
      "text/plain": [
       "           word   x1   y1   x2   y2  has_colon  char_case\n",
       "0      642-138   774  131  845  152  0          0        \n",
       "1      s.        805  306  815  320  0          2        \n",
       "2      mark      174  296  225  311  0          1        \n",
       "3      macon     627  394  682  408  0          2        \n",
       "4      richland  228  86   301  98   0          2        \n",
       "...         ...  ...  ..   ...  ..  ..         ..        \n",
       "21665  yr        306  530  334  541  0          2        \n",
       "21666  glycol    864  754  936  767  0          0        \n",
       "21667  d13       339  434  371  448  0          2        \n",
       "21668  25/       309  895  337  909  0          0        \n",
       "21669  other     0    0    0    0    0          3        \n",
       "\n",
       "[21670 rows x 7 columns]"
      ]
     },
     "execution_count": 10,
     "metadata": {},
     "output_type": "execute_result"
    }
   ],
   "source": [
    "X_train_values = X_train.values.tolist()\n",
    "X_train_values.append(['other', 0, 0, 0, 0, 0, 3])\n",
    "y_train = y_train.append(pd.Series([3]))\n",
    "\n",
    "X_train = pd.DataFrame(X_train_values, columns=X_train.columns)\n",
    "X_train"
   ]
  },
  {
   "cell_type": "markdown",
   "metadata": {},
   "source": [
    "### Transform the training data as One hot encoding, scaling etc"
   ]
  },
  {
   "cell_type": "code",
   "execution_count": 11,
   "metadata": {
    "scrolled": true
   },
   "outputs": [],
   "source": [
    "X_train = p.process(X_train, is_train=True)"
   ]
  },
  {
   "cell_type": "markdown",
   "metadata": {},
   "source": [
    "### Transform the validation data same as training data above"
   ]
  },
  {
   "cell_type": "code",
   "execution_count": 12,
   "metadata": {},
   "outputs": [
    {
     "name": "stderr",
     "output_type": "stream",
     "text": [
      "D:\\Programs\\Anaconda3\\lib\\site-packages\\pandas\\core\\indexing.py:1676: SettingWithCopyWarning: \n",
      "A value is trying to be set on a copy of a slice from a DataFrame.\n",
      "Try using .loc[row_indexer,col_indexer] = value instead\n",
      "\n",
      "See the caveats in the documentation: https://pandas.pydata.org/pandas-docs/stable/user_guide/indexing.html#returning-a-view-versus-a-copy\n",
      "  self._setitem_single_column(ilocs[0], value, pi)\n"
     ]
    }
   ],
   "source": [
    "X_val = p.process(X_val, is_train=False)"
   ]
  },
  {
   "cell_type": "markdown",
   "metadata": {},
   "source": [
    "### Define various models and add them into the list. SVC model is taking lot of time for processing and couldn't complete on local, hence excluded from the list of models below"
   ]
  },
  {
   "cell_type": "code",
   "execution_count": 13,
   "metadata": {},
   "outputs": [],
   "source": [
    "clf_decision_tree= DecisionTreeClassifier(criterion='entropy', random_state=0)  \n",
    "clf_random_forest = RandomForestClassifier()\n",
    "clf_svc = SVC(kernel='linear', random_state=0)  \n",
    "clf_gnb = GaussianNB()\n",
    "\n",
    "models_list = [clf_decision_tree, clf_random_forest, clf_gnb]\n",
    "\n"
   ]
  },
  {
   "cell_type": "markdown",
   "metadata": {},
   "source": [
    "### Train the models in the list above"
   ]
  },
  {
   "cell_type": "code",
   "execution_count": 14,
   "metadata": {},
   "outputs": [
    {
     "name": "stdout",
     "output_type": "stream",
     "text": [
      "Training models:\n",
      "Fitting model: DecisionTreeClassifier\n",
      "Fitting model: RandomForestClassifier\n",
      "Fitting model: GaussianNB\n"
     ]
    }
   ],
   "source": [
    "print('Training models:')\n",
    "for model in models_list:\n",
    "    p.train_models(model, X_train, y_train)"
   ]
  },
  {
   "cell_type": "markdown",
   "metadata": {},
   "source": [
    "### Evaluate model performance against validation dataset"
   ]
  },
  {
   "cell_type": "code",
   "execution_count": 15,
   "metadata": {},
   "outputs": [
    {
     "name": "stdout",
     "output_type": "stream",
     "text": [
      "Performance Metrics for Validation Dataset: \n",
      "\n",
      "Evaluating model: DecisionTreeClassifier\n",
      "Evaluating model: RandomForestClassifier\n",
      "Evaluating model: GaussianNB\n"
     ]
    },
    {
     "data": {
      "text/html": [
       "<div>\n",
       "<style scoped>\n",
       "    .dataframe tbody tr th:only-of-type {\n",
       "        vertical-align: middle;\n",
       "    }\n",
       "\n",
       "    .dataframe tbody tr th {\n",
       "        vertical-align: top;\n",
       "    }\n",
       "\n",
       "    .dataframe thead th {\n",
       "        text-align: right;\n",
       "    }\n",
       "</style>\n",
       "<table border=\"1\" class=\"dataframe\">\n",
       "  <thead>\n",
       "    <tr style=\"text-align: right;\">\n",
       "      <th></th>\n",
       "      <th>accuracy</th>\n",
       "      <th>f1_score (header)</th>\n",
       "      <th>f1_score (question)</th>\n",
       "      <th>f1_score (answer)</th>\n",
       "      <th>precision (header)</th>\n",
       "      <th>precision (question)</th>\n",
       "      <th>precision (answer)</th>\n",
       "    </tr>\n",
       "  </thead>\n",
       "  <tbody>\n",
       "    <tr>\n",
       "      <th>DecisionTreeClassifier</th>\n",
       "      <td>0.598174</td>\n",
       "      <td>0.695652</td>\n",
       "      <td>0.640000</td>\n",
       "      <td>0.669951</td>\n",
       "      <td>0.666667</td>\n",
       "      <td>0.676056</td>\n",
       "      <td>0.641509</td>\n",
       "    </tr>\n",
       "    <tr>\n",
       "      <th>RandomForestClassifier</th>\n",
       "      <td>0.675799</td>\n",
       "      <td>0.500000</td>\n",
       "      <td>0.704403</td>\n",
       "      <td>0.753488</td>\n",
       "      <td>0.555556</td>\n",
       "      <td>0.700000</td>\n",
       "      <td>0.686441</td>\n",
       "    </tr>\n",
       "    <tr>\n",
       "      <th>GaussianNB</th>\n",
       "      <td>0.242009</td>\n",
       "      <td>0.146341</td>\n",
       "      <td>0.271845</td>\n",
       "      <td>0.330579</td>\n",
       "      <td>0.080357</td>\n",
       "      <td>0.583333</td>\n",
       "      <td>0.833333</td>\n",
       "    </tr>\n",
       "  </tbody>\n",
       "</table>\n",
       "</div>"
      ],
      "text/plain": [
       "                        accuracy  f1_score (header)  f1_score (question)  \\\n",
       "DecisionTreeClassifier  0.598174  0.695652           0.640000              \n",
       "RandomForestClassifier  0.675799  0.500000           0.704403              \n",
       "GaussianNB              0.242009  0.146341           0.271845              \n",
       "\n",
       "                        f1_score (answer)  precision (header)  \\\n",
       "DecisionTreeClassifier  0.669951           0.666667             \n",
       "RandomForestClassifier  0.753488           0.555556             \n",
       "GaussianNB              0.330579           0.080357             \n",
       "\n",
       "                        precision (question)  precision (answer)  \n",
       "DecisionTreeClassifier  0.676056              0.641509            \n",
       "RandomForestClassifier  0.700000              0.686441            \n",
       "GaussianNB              0.583333              0.833333            "
      ]
     },
     "metadata": {},
     "output_type": "display_data"
    }
   ],
   "source": [
    "print('Performance Metrics for Validation Dataset: \\n')        \n",
    "p.evaluate_models(models_list, X_val, y_val)\n",
    "\n",
    "\n"
   ]
  },
  {
   "cell_type": "markdown",
   "metadata": {},
   "source": [
    "### load the testing dataset"
   ]
  },
  {
   "cell_type": "code",
   "execution_count": 16,
   "metadata": {},
   "outputs": [],
   "source": [
    "df_test = p.get_data('test')"
   ]
  },
  {
   "cell_type": "markdown",
   "metadata": {},
   "source": [
    "### Perform the exact same steps on testing data that were carried out on training dataset earlier"
   ]
  },
  {
   "cell_type": "code",
   "execution_count": 17,
   "metadata": {},
   "outputs": [
    {
     "data": {
      "text/html": [
       "<div>\n",
       "<style scoped>\n",
       "    .dataframe tbody tr th:only-of-type {\n",
       "        vertical-align: middle;\n",
       "    }\n",
       "\n",
       "    .dataframe tbody tr th {\n",
       "        vertical-align: top;\n",
       "    }\n",
       "\n",
       "    .dataframe thead th {\n",
       "        text-align: right;\n",
       "    }\n",
       "</style>\n",
       "<table border=\"1\" class=\"dataframe\">\n",
       "  <thead>\n",
       "    <tr style=\"text-align: right;\">\n",
       "      <th></th>\n",
       "      <th>word</th>\n",
       "      <th>x1</th>\n",
       "      <th>y1</th>\n",
       "      <th>x2</th>\n",
       "      <th>y2</th>\n",
       "      <th>ner</th>\n",
       "    </tr>\n",
       "  </thead>\n",
       "  <tbody>\n",
       "    <tr>\n",
       "      <th>0</th>\n",
       "      <td>TO:</td>\n",
       "      <td>135</td>\n",
       "      <td>345</td>\n",
       "      <td>171</td>\n",
       "      <td>359</td>\n",
       "      <td>2</td>\n",
       "    </tr>\n",
       "    <tr>\n",
       "      <th>1</th>\n",
       "      <td>DATE:</td>\n",
       "      <td>135</td>\n",
       "      <td>406</td>\n",
       "      <td>194</td>\n",
       "      <td>423</td>\n",
       "      <td>2</td>\n",
       "    </tr>\n",
       "    <tr>\n",
       "      <th>2</th>\n",
       "      <td>3</td>\n",
       "      <td>611</td>\n",
       "      <td>440</td>\n",
       "      <td>629</td>\n",
       "      <td>455</td>\n",
       "      <td>3</td>\n",
       "    </tr>\n",
       "    <tr>\n",
       "      <th>3</th>\n",
       "      <td>Fax:</td>\n",
       "      <td>330</td>\n",
       "      <td>84</td>\n",
       "      <td>363</td>\n",
       "      <td>98</td>\n",
       "      <td>2</td>\n",
       "    </tr>\n",
       "    <tr>\n",
       "      <th>4</th>\n",
       "      <td>NOTE:</td>\n",
       "      <td>136</td>\n",
       "      <td>691</td>\n",
       "      <td>184</td>\n",
       "      <td>708</td>\n",
       "      <td>2</td>\n",
       "    </tr>\n",
       "  </tbody>\n",
       "</table>\n",
       "</div>"
      ],
      "text/plain": [
       "    word   x1   y1   x2   y2  ner\n",
       "0  TO:    135  345  171  359  2  \n",
       "1  DATE:  135  406  194  423  2  \n",
       "2  3      611  440  629  455  3  \n",
       "3  Fax:   330  84   363  98   2  \n",
       "4  NOTE:  136  691  184  708  2  "
      ]
     },
     "metadata": {},
     "output_type": "display_data"
    },
    {
     "data": {
      "text/html": [
       "<div>\n",
       "<style scoped>\n",
       "    .dataframe tbody tr th:only-of-type {\n",
       "        vertical-align: middle;\n",
       "    }\n",
       "\n",
       "    .dataframe tbody tr th {\n",
       "        vertical-align: top;\n",
       "    }\n",
       "\n",
       "    .dataframe thead th {\n",
       "        text-align: right;\n",
       "    }\n",
       "</style>\n",
       "<table border=\"1\" class=\"dataframe\">\n",
       "  <thead>\n",
       "    <tr style=\"text-align: right;\">\n",
       "      <th></th>\n",
       "      <th>word</th>\n",
       "      <th>x1</th>\n",
       "      <th>y1</th>\n",
       "      <th>x2</th>\n",
       "      <th>y2</th>\n",
       "      <th>ner</th>\n",
       "      <th>has_colon</th>\n",
       "      <th>char_case</th>\n",
       "      <th>ner_calc</th>\n",
       "    </tr>\n",
       "  </thead>\n",
       "  <tbody>\n",
       "    <tr>\n",
       "      <th>0</th>\n",
       "      <td>to</td>\n",
       "      <td>135</td>\n",
       "      <td>345</td>\n",
       "      <td>171</td>\n",
       "      <td>359</td>\n",
       "      <td>2</td>\n",
       "      <td>1</td>\n",
       "      <td>2</td>\n",
       "      <td>2</td>\n",
       "    </tr>\n",
       "    <tr>\n",
       "      <th>1</th>\n",
       "      <td>date</td>\n",
       "      <td>135</td>\n",
       "      <td>406</td>\n",
       "      <td>194</td>\n",
       "      <td>423</td>\n",
       "      <td>2</td>\n",
       "      <td>1</td>\n",
       "      <td>2</td>\n",
       "      <td>2</td>\n",
       "    </tr>\n",
       "    <tr>\n",
       "      <th>2</th>\n",
       "      <td>3</td>\n",
       "      <td>611</td>\n",
       "      <td>440</td>\n",
       "      <td>629</td>\n",
       "      <td>455</td>\n",
       "      <td>3</td>\n",
       "      <td>0</td>\n",
       "      <td>0</td>\n",
       "      <td>3</td>\n",
       "    </tr>\n",
       "    <tr>\n",
       "      <th>3</th>\n",
       "      <td>fax</td>\n",
       "      <td>330</td>\n",
       "      <td>84</td>\n",
       "      <td>363</td>\n",
       "      <td>98</td>\n",
       "      <td>2</td>\n",
       "      <td>1</td>\n",
       "      <td>1</td>\n",
       "      <td>2</td>\n",
       "    </tr>\n",
       "    <tr>\n",
       "      <th>4</th>\n",
       "      <td>note</td>\n",
       "      <td>136</td>\n",
       "      <td>691</td>\n",
       "      <td>184</td>\n",
       "      <td>708</td>\n",
       "      <td>2</td>\n",
       "      <td>1</td>\n",
       "      <td>2</td>\n",
       "      <td>2</td>\n",
       "    </tr>\n",
       "  </tbody>\n",
       "</table>\n",
       "</div>"
      ],
      "text/plain": [
       "   word   x1   y1   x2   y2  ner  has_colon  char_case  ner_calc\n",
       "0  to    135  345  171  359  2    1          2          2       \n",
       "1  date  135  406  194  423  2    1          2          2       \n",
       "2  3     611  440  629  455  3    0          0          3       \n",
       "3  fax   330  84   363  98   2    1          1          2       \n",
       "4  note  136  691  184  708  2    1          2          2       "
      ]
     },
     "metadata": {},
     "output_type": "display_data"
    },
    {
     "name": "stderr",
     "output_type": "stream",
     "text": [
      "D:\\Programs\\Anaconda3\\lib\\site-packages\\pandas\\core\\indexing.py:1676: SettingWithCopyWarning: \n",
      "A value is trying to be set on a copy of a slice from a DataFrame.\n",
      "Try using .loc[row_indexer,col_indexer] = value instead\n",
      "\n",
      "See the caveats in the documentation: https://pandas.pydata.org/pandas-docs/stable/user_guide/indexing.html#returning-a-view-versus-a-copy\n",
      "  self._setitem_single_column(ilocs[0], value, pi)\n"
     ]
    }
   ],
   "source": [
    "\n",
    "display(df_test.head())\n",
    "df_test = p.pre_prcess(df_test)\n",
    "display(df_test.head())\n",
    "X_test = df_test[X_columns]\n",
    "y_test = df_test[y_column]\n",
    "\n",
    "X_test = p.process(X_test, is_train=False)"
   ]
  },
  {
   "cell_type": "markdown",
   "metadata": {},
   "source": [
    "### Evaluate model performance against testing dataset"
   ]
  },
  {
   "cell_type": "code",
   "execution_count": 18,
   "metadata": {},
   "outputs": [
    {
     "name": "stdout",
     "output_type": "stream",
     "text": [
      "Performance Metrics for Test Dataset: \n",
      "\n",
      "Evaluating model: DecisionTreeClassifier\n",
      "Evaluating model: RandomForestClassifier\n",
      "Evaluating model: GaussianNB\n"
     ]
    },
    {
     "data": {
      "text/html": [
       "<div>\n",
       "<style scoped>\n",
       "    .dataframe tbody tr th:only-of-type {\n",
       "        vertical-align: middle;\n",
       "    }\n",
       "\n",
       "    .dataframe tbody tr th {\n",
       "        vertical-align: top;\n",
       "    }\n",
       "\n",
       "    .dataframe thead th {\n",
       "        text-align: right;\n",
       "    }\n",
       "</style>\n",
       "<table border=\"1\" class=\"dataframe\">\n",
       "  <thead>\n",
       "    <tr style=\"text-align: right;\">\n",
       "      <th></th>\n",
       "      <th>accuracy</th>\n",
       "      <th>f1_score (header)</th>\n",
       "      <th>f1_score (question)</th>\n",
       "      <th>f1_score (answer)</th>\n",
       "      <th>precision (header)</th>\n",
       "      <th>precision (question)</th>\n",
       "      <th>precision (answer)</th>\n",
       "    </tr>\n",
       "  </thead>\n",
       "  <tbody>\n",
       "    <tr>\n",
       "      <th>DecisionTreeClassifier</th>\n",
       "      <td>0.480188</td>\n",
       "      <td>0.286465</td>\n",
       "      <td>0.519691</td>\n",
       "      <td>0.544907</td>\n",
       "      <td>0.281654</td>\n",
       "      <td>0.507914</td>\n",
       "      <td>0.496259</td>\n",
       "    </tr>\n",
       "    <tr>\n",
       "      <th>RandomForestClassifier</th>\n",
       "      <td>0.578156</td>\n",
       "      <td>0.375573</td>\n",
       "      <td>0.636985</td>\n",
       "      <td>0.634202</td>\n",
       "      <td>0.437722</td>\n",
       "      <td>0.624864</td>\n",
       "      <td>0.543582</td>\n",
       "    </tr>\n",
       "    <tr>\n",
       "      <th>GaussianNB</th>\n",
       "      <td>0.194097</td>\n",
       "      <td>0.105028</td>\n",
       "      <td>0.265436</td>\n",
       "      <td>0.178187</td>\n",
       "      <td>0.056116</td>\n",
       "      <td>0.566502</td>\n",
       "      <td>0.663405</td>\n",
       "    </tr>\n",
       "  </tbody>\n",
       "</table>\n",
       "</div>"
      ],
      "text/plain": [
       "                        accuracy  f1_score (header)  f1_score (question)  \\\n",
       "DecisionTreeClassifier  0.480188  0.286465           0.519691              \n",
       "RandomForestClassifier  0.578156  0.375573           0.636985              \n",
       "GaussianNB              0.194097  0.105028           0.265436              \n",
       "\n",
       "                        f1_score (answer)  precision (header)  \\\n",
       "DecisionTreeClassifier  0.544907           0.281654             \n",
       "RandomForestClassifier  0.634202           0.437722             \n",
       "GaussianNB              0.178187           0.056116             \n",
       "\n",
       "                        precision (question)  precision (answer)  \n",
       "DecisionTreeClassifier  0.507914              0.496259            \n",
       "RandomForestClassifier  0.624864              0.543582            \n",
       "GaussianNB              0.566502              0.663405            "
      ]
     },
     "metadata": {},
     "output_type": "display_data"
    }
   ],
   "source": [
    "print('Performance Metrics for Test Dataset: \\n')  \n",
    "p.evaluate_models(models_list, X_test, y_test)\n",
    "      \n"
   ]
  },
  {
   "cell_type": "markdown",
   "metadata": {},
   "source": [
    "### Plot confusion matrix for all models on testing dataset"
   ]
  },
  {
   "cell_type": "code",
   "execution_count": 19,
   "metadata": {},
   "outputs": [
    {
     "name": "stdout",
     "output_type": "stream",
     "text": [
      "Plotting for model: DecisionTreeClassifier\n",
      "confusion matrix:\n"
     ]
    },
    {
     "data": {
      "text/plain": [
       "array([[ 670,  117,  465, 1133],\n",
       "       [  63,  109,  111,   91],\n",
       "       [ 343,  103, 1412,  796],\n",
       "       [ 454,   58,  792, 1990]], dtype=int64)"
      ]
     },
     "metadata": {},
     "output_type": "display_data"
    },
    {
     "name": "stdout",
     "output_type": "stream",
     "text": [
      "multilabel confusion matrix:\n"
     ]
    },
    {
     "data": {
      "text/plain": [
       "array([[[5462,  860],\n",
       "        [1715,  670]],\n",
       "\n",
       "       [[8055,  278],\n",
       "        [ 265,  109]],\n",
       "\n",
       "       [[4685, 1368],\n",
       "        [1242, 1412]],\n",
       "\n",
       "       [[3393, 2020],\n",
       "        [1304, 1990]]], dtype=int64)"
      ]
     },
     "metadata": {},
     "output_type": "display_data"
    },
    {
     "data": {
      "image/png": "[encoded data removed]",
      "text/plain": [
       "<Figure size 432x288 with 1 Axes>"
      ]
     },
     "metadata": {
      "needs_background": "light"
     },
     "output_type": "display_data"
    },
    {
     "name": "stdout",
     "output_type": "stream",
     "text": [
      "Plotting for model: RandomForestClassifier\n",
      "confusion matrix:\n"
     ]
    },
    {
     "data": {
      "text/plain": [
       "array([[ 680,  115,  343, 1247],\n",
       "       [  17,  123,  113,  121],\n",
       "       [ 164,   29, 1724,  737],\n",
       "       [ 194,   14,  579, 2507]], dtype=int64)"
      ]
     },
     "metadata": {},
     "output_type": "display_data"
    },
    {
     "name": "stdout",
     "output_type": "stream",
     "text": [
      "multilabel confusion matrix:\n"
     ]
    },
    {
     "data": {
      "text/plain": [
       "array([[[5947,  375],\n",
       "        [1705,  680]],\n",
       "\n",
       "       [[8175,  158],\n",
       "        [ 251,  123]],\n",
       "\n",
       "       [[5018, 1035],\n",
       "        [ 930, 1724]],\n",
       "\n",
       "       [[3308, 2105],\n",
       "        [ 787, 2507]]], dtype=int64)"
      ]
     },
     "metadata": {},
     "output_type": "display_data"
    },
    {
     "data": {
      "image/png": "[encoded data removed]",
      "text/plain": [
       "<Figure size 432x288 with 1 Axes>"
      ]
     },
     "metadata": {
      "needs_background": "light"
     },
     "output_type": "display_data"
    },
    {
     "name": "stdout",
     "output_type": "stream",
     "text": [
      "Plotting for model: GaussianNB\n",
      "confusion matrix:\n"
     ]
    },
    {
     "data": {
      "text/plain": [
       "array([[ 585, 1589,  114,   97],\n",
       "       [  33,  306,   28,    7],\n",
       "       [ 547, 1579,  460,   68],\n",
       "       [ 766, 1979,  210,  339]], dtype=int64)"
      ]
     },
     "metadata": {},
     "output_type": "display_data"
    },
    {
     "name": "stdout",
     "output_type": "stream",
     "text": [
      "multilabel confusion matrix:\n"
     ]
    },
    {
     "data": {
      "text/plain": [
       "array([[[4976, 1346],\n",
       "        [1800,  585]],\n",
       "\n",
       "       [[3186, 5147],\n",
       "        [  68,  306]],\n",
       "\n",
       "       [[5701,  352],\n",
       "        [2194,  460]],\n",
       "\n",
       "       [[5241,  172],\n",
       "        [2955,  339]]], dtype=int64)"
      ]
     },
     "metadata": {},
     "output_type": "display_data"
    },
    {
     "data": {
      "image/png": "[encoded data removed]",
      "text/plain": [
       "<Figure size 432x288 with 1 Axes>"
      ]
     },
     "metadata": {
      "needs_background": "light"
     },
     "output_type": "display_data"
    }
   ],
   "source": [
    "for model in models_list:\n",
    "    p.plot_confusion_matrix_for_models(model, X_test, y_test)\n"
   ]
  },
  {
   "cell_type": "code",
   "execution_count": 20,
   "metadata": {},
   "outputs": [],
   "source": [
    "p.word_type_from_numeric = word_type_from_numeric\n",
    "p.X_columns = X_columns"
   ]
  },
  {
   "cell_type": "markdown",
   "metadata": {},
   "source": [
    "### example word predictions using the trained models"
   ]
  },
  {
   "cell_type": "code",
   "execution_count": 21,
   "metadata": {},
   "outputs": [
    {
     "data": {
      "text/html": [
       "<div>\n",
       "<style scoped>\n",
       "    .dataframe tbody tr th:only-of-type {\n",
       "        vertical-align: middle;\n",
       "    }\n",
       "\n",
       "    .dataframe tbody tr th {\n",
       "        vertical-align: top;\n",
       "    }\n",
       "\n",
       "    .dataframe thead th {\n",
       "        text-align: right;\n",
       "    }\n",
       "</style>\n",
       "<table border=\"1\" class=\"dataframe\">\n",
       "  <thead>\n",
       "    <tr style=\"text-align: right;\">\n",
       "      <th></th>\n",
       "      <th>Word</th>\n",
       "      <th>model name</th>\n",
       "      <th>Predicted Type</th>\n",
       "    </tr>\n",
       "  </thead>\n",
       "  <tbody>\n",
       "    <tr>\n",
       "      <th>1</th>\n",
       "      <td>R&amp;D</td>\n",
       "      <td>DecisionTreeClassifier</td>\n",
       "      <td>Answer</td>\n",
       "    </tr>\n",
       "    <tr>\n",
       "      <th>2</th>\n",
       "      <td>R&amp;D</td>\n",
       "      <td>RandomForestClassifier</td>\n",
       "      <td>Question</td>\n",
       "    </tr>\n",
       "    <tr>\n",
       "      <th>3</th>\n",
       "      <td>R&amp;D</td>\n",
       "      <td>GaussianNB</td>\n",
       "      <td>Header</td>\n",
       "    </tr>\n",
       "  </tbody>\n",
       "</table>\n",
       "</div>"
      ],
      "text/plain": [
       "  Word              model name Predicted Type\n",
       "1  R&D  DecisionTreeClassifier  Answer       \n",
       "2  R&D  RandomForestClassifier  Question     \n",
       "3  R&D  GaussianNB              Header       "
      ]
     },
     "metadata": {},
     "output_type": "display_data"
    }
   ],
   "source": [
    "to_predict = {'word':'R&D', 'x1':200, 'y1':350, 'x2':300, 'y2':400} \n",
    "p.predict_word_type(models_list, to_predict)\n",
    "\n"
   ]
  },
  {
   "cell_type": "markdown",
   "metadata": {},
   "source": [
    "### another example word prediction using the trained models"
   ]
  },
  {
   "cell_type": "code",
   "execution_count": 22,
   "metadata": {},
   "outputs": [
    {
     "data": {
      "text/html": [
       "<div>\n",
       "<style scoped>\n",
       "    .dataframe tbody tr th:only-of-type {\n",
       "        vertical-align: middle;\n",
       "    }\n",
       "\n",
       "    .dataframe tbody tr th {\n",
       "        vertical-align: top;\n",
       "    }\n",
       "\n",
       "    .dataframe thead th {\n",
       "        text-align: right;\n",
       "    }\n",
       "</style>\n",
       "<table border=\"1\" class=\"dataframe\">\n",
       "  <thead>\n",
       "    <tr style=\"text-align: right;\">\n",
       "      <th></th>\n",
       "      <th>Word</th>\n",
       "      <th>model name</th>\n",
       "      <th>Predicted Type</th>\n",
       "    </tr>\n",
       "  </thead>\n",
       "  <tbody>\n",
       "    <tr>\n",
       "      <th>1</th>\n",
       "      <td>Submission</td>\n",
       "      <td>DecisionTreeClassifier</td>\n",
       "      <td>Question</td>\n",
       "    </tr>\n",
       "    <tr>\n",
       "      <th>2</th>\n",
       "      <td>Submission</td>\n",
       "      <td>RandomForestClassifier</td>\n",
       "      <td>Question</td>\n",
       "    </tr>\n",
       "    <tr>\n",
       "      <th>3</th>\n",
       "      <td>Submission</td>\n",
       "      <td>GaussianNB</td>\n",
       "      <td>Header</td>\n",
       "    </tr>\n",
       "  </tbody>\n",
       "</table>\n",
       "</div>"
      ],
      "text/plain": [
       "         Word              model name Predicted Type\n",
       "1  Submission  DecisionTreeClassifier  Question     \n",
       "2  Submission  RandomForestClassifier  Question     \n",
       "3  Submission  GaussianNB              Header       "
      ]
     },
     "metadata": {},
     "output_type": "display_data"
    }
   ],
   "source": [
    "to_predict = {'word':'Submission', 'x1':100, 'y1':600, 'x2':150, 'y2':650} \n",
    "p.predict_word_type(models_list, to_predict)"
   ]
  }
 ],
 "metadata": {
  "kernelspec": {
   "display_name": "Python 3",
   "language": "python",
   "name": "python3"
  },
  "language_info": {
   "codemirror_mode": {
    "name": "ipython",
    "version": 3
   },
   "file_extension": ".py",
   "mimetype": "text/x-python",
   "name": "python",
   "nbconvert_exporter": "python",
   "pygments_lexer": "ipython3",
   "version": "3.8.3"
  }
 },
 "nbformat": 4,
 "nbformat_minor": 4
}
